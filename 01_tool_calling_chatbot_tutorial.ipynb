{
 "cells": [
  {
   "cell_type": "markdown",
   "id": "1aa2770b",
   "metadata": {},
   "source": [
    "# LangGraph 教程 01：为聊天机器人添加工具 (Add Tools)\n",
    "\n",
    "> 本教程基于 [LangGraph 官方教程 - Add Tools](https://langchain-ai.github.io/langgraph/tutorials/introduction/) 的中文翻译版本\n",
    "\n",
    "## 📚 教程概述\n",
    "\n",
    "为了处理聊天机器人无法从\"记忆\"中回答的查询，我们将集成一个网络搜索工具。聊天机器人可以使用这个工具来查找相关信息并提供更好的回应。\n",
    "\n",
    "**注意**：本教程基于\"构建基础聊天机器人\"教程。\n",
    "\n",
    "## 🎯 学习目标\n",
    "\n",
    "- 理解如何为 LangGraph 聊天机器人集成外部工具\n",
    "- 学习工具调用 (Tool Calling) 的概念和实现\n",
    "- 掌握条件边 (Conditional Edges) 的使用\n",
    "- 了解 LangGraph 预构建组件的使用\n",
    "\n",
    "## 🔧 核心概念\n",
    "\n",
    "- **工具 (Tools)**：外部功能，如网络搜索、计算器等\n",
    "- **工具调用 (Tool Calling)**：LLM 决定何时使用工具的机制\n",
    "- **条件边 (Conditional Edges)**：根据状态动态决定下一个节点\n",
    "- **ToolNode**：处理工具调用的专用节点"
   ]
  },
  {
   "cell_type": "markdown",
   "id": "db04e63d",
   "metadata": {},
   "source": [
    "## 📋 前置条件\n",
    "\n",
    "在开始本教程之前，请确保您拥有：\n",
    "\n",
    "1. **OpenRouter API Key**：用于访问 LLM 模型\n",
    "2. **Tavily Search Engine API Key**：用于网络搜索工具\n",
    "\n",
    "### 🔧 环境变量配置说明\n",
    "\n",
    "如果您已经在 `.zshrc` 中配置了 API Keys，但 Jupyter 仍然要求输入，这是因为 Notebook 运行在独立的 Python 进程中。您可以：\n",
    "\n",
    "1. **重启 Jupyter Notebook** 以重新加载环境变量\n",
    "2. **或者直接在代码中设置**（下面的代码会自动处理）\n",
    "3. **或者创建 `.env` 文件**（推荐方式）"
   ]
  },
  {
   "cell_type": "markdown",
   "id": "5abe7b7e",
   "metadata": {},
   "source": [
    "## 1. 安装搜索引擎依赖\n",
    "\n",
    "安装使用 Tavily 搜索引擎所需的依赖："
   ]
  },
  {
   "cell_type": "code",
   "execution_count": 8,
   "id": "daac9ce9",
   "metadata": {},
   "outputs": [
    {
     "name": "stdout",
     "output_type": "stream",
     "text": [
      "Requirement already satisfied: langchain-tavily in /Users/zz/miniconda3/envs/langchain_env/lib/python3.10/site-packages (0.2.11)\n",
      "Requirement already satisfied: LangGraph in /Users/zz/miniconda3/envs/langchain_env/lib/python3.10/site-packages (0.6.4)\n",
      "Requirement already satisfied: aiohttp<4.0.0,>=3.11.14 in /Users/zz/miniconda3/envs/langchain_env/lib/python3.10/site-packages (from langchain-tavily) (3.12.14)\n",
      "Requirement already satisfied: langchain<0.4.0,>=0.3.20 in /Users/zz/miniconda3/envs/langchain_env/lib/python3.10/site-packages (from langchain-tavily) (0.3.27)\n",
      "Requirement already satisfied: langchain-core<0.4.0,>=0.3.15 in /Users/zz/miniconda3/envs/langchain_env/lib/python3.10/site-packages (from langchain-tavily) (0.3.74)\n",
      "Requirement already satisfied: requests<3.0.0,>=2.32.3 in /Users/zz/miniconda3/envs/langchain_env/lib/python3.10/site-packages (from langchain-tavily) (2.32.3)\n",
      "Requirement already satisfied: langgraph-checkpoint<3.0.0,>=2.1.0 in /Users/zz/miniconda3/envs/langchain_env/lib/python3.10/site-packages (from LangGraph) (2.1.1)\n",
      "Requirement already satisfied: langgraph-prebuilt<0.7.0,>=0.6.0 in /Users/zz/miniconda3/envs/langchain_env/lib/python3.10/site-packages (from LangGraph) (0.6.4)\n",
      "Requirement already satisfied: langgraph-sdk<0.3.0,>=0.2.0 in /Users/zz/miniconda3/envs/langchain_env/lib/python3.10/site-packages (from LangGraph) (0.2.0)\n",
      "Requirement already satisfied: pydantic>=2.7.4 in /Users/zz/miniconda3/envs/langchain_env/lib/python3.10/site-packages (from LangGraph) (2.11.7)\n",
      "Requirement already satisfied: xxhash>=3.5.0 in /Users/zz/miniconda3/envs/langchain_env/lib/python3.10/site-packages (from LangGraph) (3.5.0)\n",
      "Requirement already satisfied: aiohappyeyeballs>=2.5.0 in /Users/zz/miniconda3/envs/langchain_env/lib/python3.10/site-packages (from aiohttp<4.0.0,>=3.11.14->langchain-tavily) (2.6.1)\n",
      "Requirement already satisfied: aiosignal>=1.4.0 in /Users/zz/miniconda3/envs/langchain_env/lib/python3.10/site-packages (from aiohttp<4.0.0,>=3.11.14->langchain-tavily) (1.4.0)\n",
      "Requirement already satisfied: async-timeout<6.0,>=4.0 in /Users/zz/miniconda3/envs/langchain_env/lib/python3.10/site-packages (from aiohttp<4.0.0,>=3.11.14->langchain-tavily) (4.0.3)\n",
      "Requirement already satisfied: attrs>=17.3.0 in /Users/zz/miniconda3/envs/langchain_env/lib/python3.10/site-packages (from aiohttp<4.0.0,>=3.11.14->langchain-tavily) (24.3.0)\n",
      "Requirement already satisfied: frozenlist>=1.1.1 in /Users/zz/miniconda3/envs/langchain_env/lib/python3.10/site-packages (from aiohttp<4.0.0,>=3.11.14->langchain-tavily) (1.5.0)\n",
      "Requirement already satisfied: multidict<7.0,>=4.5 in /Users/zz/miniconda3/envs/langchain_env/lib/python3.10/site-packages (from aiohttp<4.0.0,>=3.11.14->langchain-tavily) (6.1.0)\n",
      "Requirement already satisfied: propcache>=0.2.0 in /Users/zz/miniconda3/envs/langchain_env/lib/python3.10/site-packages (from aiohttp<4.0.0,>=3.11.14->langchain-tavily) (0.2.1)\n",
      "Requirement already satisfied: yarl<2.0,>=1.17.0 in /Users/zz/miniconda3/envs/langchain_env/lib/python3.10/site-packages (from aiohttp<4.0.0,>=3.11.14->langchain-tavily) (1.18.3)\n",
      "Requirement already satisfied: langchain-text-splitters<1.0.0,>=0.3.9 in /Users/zz/miniconda3/envs/langchain_env/lib/python3.10/site-packages (from langchain<0.4.0,>=0.3.20->langchain-tavily) (0.3.9)\n",
      "Requirement already satisfied: langsmith>=0.1.17 in /Users/zz/miniconda3/envs/langchain_env/lib/python3.10/site-packages (from langchain<0.4.0,>=0.3.20->langchain-tavily) (0.4.13)\n",
      "Requirement already satisfied: SQLAlchemy<3,>=1.4 in /Users/zz/miniconda3/envs/langchain_env/lib/python3.10/site-packages (from langchain<0.4.0,>=0.3.20->langchain-tavily) (2.0.37)\n",
      "Requirement already satisfied: PyYAML>=5.3 in /Users/zz/miniconda3/envs/langchain_env/lib/python3.10/site-packages (from langchain<0.4.0,>=0.3.20->langchain-tavily) (6.0.2)\n",
      "Requirement already satisfied: tenacity!=8.4.0,<10.0.0,>=8.1.0 in /Users/zz/miniconda3/envs/langchain_env/lib/python3.10/site-packages (from langchain-core<0.4.0,>=0.3.15->langchain-tavily) (8.5.0)\n",
      "Requirement already satisfied: jsonpatch<2.0,>=1.33 in /Users/zz/miniconda3/envs/langchain_env/lib/python3.10/site-packages (from langchain-core<0.4.0,>=0.3.15->langchain-tavily) (1.33)\n",
      "Requirement already satisfied: typing-extensions>=4.7 in /Users/zz/miniconda3/envs/langchain_env/lib/python3.10/site-packages (from langchain-core<0.4.0,>=0.3.15->langchain-tavily) (4.14.1)\n",
      "Requirement already satisfied: packaging>=23.2 in /Users/zz/miniconda3/envs/langchain_env/lib/python3.10/site-packages (from langchain-core<0.4.0,>=0.3.15->langchain-tavily) (23.2)\n",
      "Requirement already satisfied: ormsgpack>=1.10.0 in /Users/zz/miniconda3/envs/langchain_env/lib/python3.10/site-packages (from langgraph-checkpoint<3.0.0,>=2.1.0->LangGraph) (1.10.0)\n",
      "Requirement already satisfied: httpx>=0.25.2 in /Users/zz/miniconda3/envs/langchain_env/lib/python3.10/site-packages (from langgraph-sdk<0.3.0,>=0.2.0->LangGraph) (0.27.2)\n",
      "Requirement already satisfied: orjson>=3.10.1 in /Users/zz/miniconda3/envs/langchain_env/lib/python3.10/site-packages (from langgraph-sdk<0.3.0,>=0.2.0->LangGraph) (3.10.14)\n",
      "Requirement already satisfied: annotated-types>=0.6.0 in /Users/zz/miniconda3/envs/langchain_env/lib/python3.10/site-packages (from pydantic>=2.7.4->LangGraph) (0.7.0)\n",
      "Requirement already satisfied: pydantic-core==2.33.2 in /Users/zz/miniconda3/envs/langchain_env/lib/python3.10/site-packages (from pydantic>=2.7.4->LangGraph) (2.33.2)\n",
      "Requirement already satisfied: typing-inspection>=0.4.0 in /Users/zz/miniconda3/envs/langchain_env/lib/python3.10/site-packages (from pydantic>=2.7.4->LangGraph) (0.4.1)\n",
      "Requirement already satisfied: charset-normalizer<4,>=2 in /Users/zz/miniconda3/envs/langchain_env/lib/python3.10/site-packages (from requests<3.0.0,>=2.32.3->langchain-tavily) (3.4.1)\n",
      "Requirement already satisfied: idna<4,>=2.5 in /Users/zz/miniconda3/envs/langchain_env/lib/python3.10/site-packages (from requests<3.0.0,>=2.32.3->langchain-tavily) (3.10)\n",
      "Requirement already satisfied: urllib3<3,>=1.21.1 in /Users/zz/miniconda3/envs/langchain_env/lib/python3.10/site-packages (from requests<3.0.0,>=2.32.3->langchain-tavily) (2.3.0)\n",
      "Requirement already satisfied: certifi>=2017.4.17 in /Users/zz/miniconda3/envs/langchain_env/lib/python3.10/site-packages (from requests<3.0.0,>=2.32.3->langchain-tavily) (2024.12.14)\n",
      "Requirement already satisfied: anyio in /Users/zz/miniconda3/envs/langchain_env/lib/python3.10/site-packages (from httpx>=0.25.2->langgraph-sdk<0.3.0,>=0.2.0->LangGraph) (4.8.0)\n",
      "Requirement already satisfied: httpcore==1.* in /Users/zz/miniconda3/envs/langchain_env/lib/python3.10/site-packages (from httpx>=0.25.2->langgraph-sdk<0.3.0,>=0.2.0->LangGraph) (1.0.7)\n",
      "Requirement already satisfied: sniffio in /Users/zz/miniconda3/envs/langchain_env/lib/python3.10/site-packages (from httpx>=0.25.2->langgraph-sdk<0.3.0,>=0.2.0->LangGraph) (1.3.1)\n",
      "Requirement already satisfied: h11<0.15,>=0.13 in /Users/zz/miniconda3/envs/langchain_env/lib/python3.10/site-packages (from httpcore==1.*->httpx>=0.25.2->langgraph-sdk<0.3.0,>=0.2.0->LangGraph) (0.14.0)\n",
      "Requirement already satisfied: jsonpointer>=1.9 in /Users/zz/miniconda3/envs/langchain_env/lib/python3.10/site-packages (from jsonpatch<2.0,>=1.33->langchain-core<0.4.0,>=0.3.15->langchain-tavily) (3.0.0)\n",
      "Requirement already satisfied: requests-toolbelt>=1.0.0 in /Users/zz/miniconda3/envs/langchain_env/lib/python3.10/site-packages (from langsmith>=0.1.17->langchain<0.4.0,>=0.3.20->langchain-tavily) (1.0.0)\n",
      "Requirement already satisfied: zstandard>=0.23.0 in /Users/zz/miniconda3/envs/langchain_env/lib/python3.10/site-packages (from langsmith>=0.1.17->langchain<0.4.0,>=0.3.20->langchain-tavily) (0.23.0)\n",
      "Requirement already satisfied: greenlet!=0.4.17 in /Users/zz/miniconda3/envs/langchain_env/lib/python3.10/site-packages (from SQLAlchemy<3,>=1.4->langchain<0.4.0,>=0.3.20->langchain-tavily) (3.1.1)\n",
      "Requirement already satisfied: exceptiongroup>=1.0.2 in /Users/zz/miniconda3/envs/langchain_env/lib/python3.10/site-packages (from anyio->httpx>=0.25.2->langgraph-sdk<0.3.0,>=0.2.0->LangGraph) (1.2.2)\n"
     ]
    }
   ],
   "source": [
    "# 安装必要的依赖包\n",
    "!pip install -U langchain-tavily LangGraph"
   ]
  },
  {
   "cell_type": "markdown",
   "id": "d534cb09",
   "metadata": {},
   "source": [
    "## 2. 配置环境变量\n",
    "\n",
    "配置您的环境变量，包括搜索引擎 API Key 和 OpenRouter API Key。\n",
    "\n",
    "### 💡 推荐方法：使用 .env 文件\n",
    "\n",
    "项目中已提供 `.env.example` 模板文件，您可以：\n",
    "\n",
    "1. **复制模板文件**：`cp .env.example .env`\n",
    "2. **编辑 .env 文件**：填入您的实际 API Keys\n",
    "3. **自动加载**：下面的代码会自动加载 .env 文件中的配置\n",
    "\n",
    "### 🔧 手动配置方法\n",
    "\n",
    "如果您没有使用 .env 文件，代码会提示您手动输入 API Keys。"
   ]
  },
  {
   "cell_type": "code",
   "execution_count": 9,
   "id": "20efd0de",
   "metadata": {},
   "outputs": [
    {
     "name": "stdout",
     "output_type": "stream",
     "text": [
      "🔍 检查 .env 文件...\n",
      "✅ .env 文件加载成功\n",
      "\n",
      "🔍 检查环境变量状态:\n",
      "TAVILY_API_KEY: ✅ 已设置\n",
      "OPENAI_API_KEY: ✅ 已设置\n",
      "\n",
      "🔄 配置必要的环境变量...\n",
      "✅ TAVILY_API_KEY 已配置\n",
      "✅ OPENAI_API_KEY 已配置\n",
      "\n",
      "✅ 环境变量配置完成！\n",
      "🔗 使用 OpenRouter 作为 API 提供商\n",
      "🔍 使用 Tavily 作为搜索引擎\n",
      "📊 TAVILY_API_KEY: ...rDpiRXfd\n",
      "📊 OPENAI_API_KEY: ...key-here\n"
     ]
    }
   ],
   "source": [
    "import os\n",
    "import getpass\n",
    "\n",
    "# 🔄 尝试加载 .env 文件\n",
    "print(\"🔍 检查 .env 文件...\")\n",
    "try:\n",
    "    from dotenv import load_dotenv\n",
    "    if load_dotenv():\n",
    "        print(\"✅ .env 文件加载成功\")\n",
    "    else:\n",
    "        print(\"📝 .env 文件不存在或为空\")\n",
    "except ImportError:\n",
    "    print(\"💡 提示：安装 python-dotenv 可以自动加载 .env 文件\")\n",
    "    print(\"   pip install python-dotenv\")\n",
    "\n",
    "def _set_env(var: str):\n",
    "    \"\"\"智能地设置环境变量\"\"\"\n",
    "    if os.environ.get(var):\n",
    "        print(f\"✅ {var} 已配置\")\n",
    "        return\n",
    "    \n",
    "    print(f\"⚠️  {var} 未找到，请输入：\")\n",
    "    os.environ[var] = getpass.getpass(f\"{var}: \")\n",
    "    print(f\"✅ {var} 设置完成\")\n",
    "\n",
    "# 检查并显示当前环境变量状态\n",
    "print(\"\\n🔍 检查环境变量状态:\")\n",
    "print(f\"TAVILY_API_KEY: {'✅ 已设置' if os.environ.get('TAVILY_API_KEY') else '❌ 未设置'}\")\n",
    "print(f\"OPENAI_API_KEY: {'✅ 已设置' if os.environ.get('OPENAI_API_KEY') else '❌ 未设置'}\")\n",
    "\n",
    "print(\"\\n🔄 配置必要的环境变量...\")\n",
    "\n",
    "# 设置 Tavily API Key\n",
    "_set_env(\"TAVILY_API_KEY\")\n",
    "\n",
    "# 设置 OpenRouter API Key\n",
    "_set_env(\"OPENAI_API_KEY\")\n",
    "\n",
    "# 设置 OpenRouter 的 Base URL\n",
    "os.environ[\"OPENAI_BASE_URL\"] = \"https://openrouter.ai/api/v1\"\n",
    "\n",
    "print(\"\\n✅ 环境变量配置完成！\")\n",
    "print(\"🔗 使用 OpenRouter 作为 API 提供商\")\n",
    "print(\"🔍 使用 Tavily 作为搜索引擎\")\n",
    "print(f\"📊 TAVILY_API_KEY: ...{os.environ.get('TAVILY_API_KEY', 'None')[-8:]}\")\n",
    "print(f\"📊 OPENAI_API_KEY: ...{os.environ.get('OPENAI_API_KEY', 'None')[-8:]}\")"
   ]
  },
  {
   "cell_type": "markdown",
   "id": "75d5bc42",
   "metadata": {},
   "source": [
    "## 3. 定义工具 (Define the Tool)\n",
    "\n",
    "定义网络搜索工具："
   ]
  },
  {
   "cell_type": "code",
   "execution_count": 10,
   "id": "99fedc93",
   "metadata": {},
   "outputs": [
    {
     "name": "stdout",
     "output_type": "stream",
     "text": [
      "🔍 搜索工具创建成功！\n",
      "工具名称: tavily_search\n",
      "工具描述: A search engine optimized for comprehensive, accurate, and trusted results. Useful for when you need to answer questions about current events. It not only retrieves URLs and snippets, but offers advanced search depths, domain management, time range filters, and image search, this tool delivers real-time, accurate, and citation-backed results.Input should be a search query.\n"
     ]
    },
    {
     "data": {
      "text/plain": [
       "{'query': \"What's a 'node' in LangGraph?\",\n",
       " 'follow_up_questions': None,\n",
       " 'answer': None,\n",
       " 'images': [],\n",
       " 'results': [{'url': 'https://langchain-ai.github.io/langgraph/concepts/low_level/',\n",
       "   'title': 'state graph node - GitHub Pages',\n",
       "   'content': 'To build your graph, you first define the state, you then add nodes and edges, and then you compile it. The schema of the `State` will be the input schema to all `Nodes` and `Edges` in the graph, and can be either a `TypedDict` or a `Pydantic` model. The reducer function is vital to telling the graph how to update the list of `Message` objects in the state with each state update (for example, when a node sends an update). graph.add_conditional_edges(\"node_a\", routing_function) Use `Command` when you need to **both** update the graph state **and** route to a different node. When you send updates from a subgraph node to a parent graph node for a key that\\'s shared by both parent and subgraph state schemas, you **must** define a reducer for the key you\\'re updating in the parent graph state.',\n",
       "   'score': 0.98581,\n",
       "   'raw_content': None},\n",
       "  {'url': 'https://medium.com/@kbdhunga/beginners-guide-to-langgraph-understanding-state-nodes-and-edges-part-1-897e6114fa48',\n",
       "   'title': \"Beginner's Guide to LangGraph: Understanding State, ...\",\n",
       "   'content': 'Each node represents a specific function or operation that processes the current state. Nodes can perform computations, modify the state, or',\n",
       "   'score': 0.9828,\n",
       "   'raw_content': None}],\n",
       " 'response_time': 1.12}"
      ]
     },
     "execution_count": 10,
     "metadata": {},
     "output_type": "execute_result"
    }
   ],
   "source": [
    "from langchain_tavily import TavilySearch\n",
    "\n",
    "# 创建 Tavily 搜索工具，限制返回最多 2 个结果\n",
    "tool = TavilySearch(max_results=2)\n",
    "tools = [tool]\n",
    "\n",
    "print(\"🔍 搜索工具创建成功！\")\n",
    "print(f\"工具名称: {tool.name}\")\n",
    "print(f\"工具描述: {tool.description}\")\n",
    "tool.invoke(\"What's a 'node' in LangGraph?\")\n"
   ]
  },
  {
   "cell_type": "markdown",
   "id": "9e93f575",
   "metadata": {},
   "source": [
    "### 测试搜索工具\n",
    "\n",
    "让我们测试一下搜索工具是否正常工作："
   ]
  },
  {
   "cell_type": "code",
   "execution_count": 11,
   "id": "6aa3581a",
   "metadata": {},
   "outputs": [
    {
     "name": "stdout",
     "output_type": "stream",
     "text": [
      "{'query': \"What's a 'node' in LangGraph?\", 'follow_up_questions': None, 'answer': None, 'images': [], 'results': [{'url': 'https://langchain-ai.github.io/langgraph/concepts/low_level/', 'title': 'state graph node - GitHub Pages', 'content': 'To build your graph, you first define the state, you then add nodes and edges, and then you compile it. The schema of the `State` will be the input schema to all `Nodes` and `Edges` in the graph, and can be either a `TypedDict` or a `Pydantic` model. The reducer function is vital to telling the graph how to update the list of `Message` objects in the state with each state update (for example, when a node sends an update). graph.add_conditional_edges(\"node_a\", routing_function) Use `Command` when you need to **both** update the graph state **and** route to a different node. When you send updates from a subgraph node to a parent graph node for a key that\\'s shared by both parent and subgraph state schemas, you **must** define a reducer for the key you\\'re updating in the parent graph state.', 'score': 0.98581, 'raw_content': None}, {'url': 'https://medium.com/@kbdhunga/beginners-guide-to-langgraph-understanding-state-nodes-and-edges-part-1-897e6114fa48', 'title': \"Beginner's Guide to LangGraph: Understanding State, ...\", 'content': 'Each node represents a specific function or operation that processes the current state. Nodes can perform computations, modify the state, or', 'score': 0.9828, 'raw_content': None}], 'response_time': 0.94}\n"
     ]
    }
   ],
   "source": [
    "# 测试搜索工具\n",
    "search_result = tool.invoke(\"What's a 'node' in LangGraph?\")\n",
    "print(search_result)"
   ]
  },
  {
   "cell_type": "code",
   "execution_count": 12,
   "id": "49f9b9dc",
   "metadata": {},
   "outputs": [
    {
     "name": "stdout",
     "output_type": "stream",
     "text": [
      "🔍 搜索结果:\n",
      "查询: What's a 'node' in LangGraph?\n",
      "结果数量: 2\n",
      "\n",
      "📄 搜索结果详情:\n",
      "\n",
      "1. state graph node - GitHub Pages\n",
      "   URL: https://langchain-ai.github.io/langgraph/concepts/low_level/\n",
      "   内容摘要: To build your graph, you first define the state, you then add nodes and edges, and then you compile it. The schema of the `State` will be the input schema to all `Nodes` and `Edges` in the graph, and ...\n",
      "   相关度评分: 0.98581\n",
      "\n",
      "2. Beginner's Guide to LangGraph: Understanding State, ...\n",
      "   URL: https://medium.com/@kbdhunga/beginners-guide-to-langgraph-understanding-state-nodes-and-edges-part-1-897e6114fa48\n",
      "   内容摘要: Each node represents a specific function or operation that processes the current state. Nodes can perform computations, modify the state, or...\n",
      "   相关度评分: 0.9828\n"
     ]
    }
   ],
   "source": [
    "\n",
    "print(\"🔍 搜索结果:\")\n",
    "print(f\"查询: {search_result['query']}\")\n",
    "print(f\"结果数量: {len(search_result['results'])}\")\n",
    "print(\"\\n📄 搜索结果详情:\")\n",
    "for i, result in enumerate(search_result['results'], 1):\n",
    "    print(f\"\\n{i}. {result['title']}\")\n",
    "    print(f\"   URL: {result['url']}\")\n",
    "    print(f\"   内容摘要: {result['content'][:200]}...\")\n",
    "    print(f\"   相关度评分: {result['score']}\")"
   ]
  },
  {
   "cell_type": "markdown",
   "id": "87e8567b",
   "metadata": {},
   "source": [
    "## 4. 定义图结构 (Define the Graph)\n",
    "\n",
    "为在第一个教程中创建的 StateGraph 添加 `bind_tools`。这让 LLM 知道如果它想使用搜索引擎，应该使用正确的 JSON 格式。\n",
    "\n",
    "首先选择我们的 LLM："
   ]
  },
  {
   "cell_type": "code",
   "execution_count": 13,
   "id": "0349f518",
   "metadata": {},
   "outputs": [
    {
     "name": "stdout",
     "output_type": "stream",
     "text": [
      "Requirement already satisfied: langchain[openai] in /Users/zz/miniconda3/envs/langchain_env/lib/python3.10/site-packages (0.3.27)\n",
      "Requirement already satisfied: langchain-core<1.0.0,>=0.3.72 in /Users/zz/miniconda3/envs/langchain_env/lib/python3.10/site-packages (from langchain[openai]) (0.3.74)\n",
      "Requirement already satisfied: langchain-text-splitters<1.0.0,>=0.3.9 in /Users/zz/miniconda3/envs/langchain_env/lib/python3.10/site-packages (from langchain[openai]) (0.3.9)\n",
      "Requirement already satisfied: langsmith>=0.1.17 in /Users/zz/miniconda3/envs/langchain_env/lib/python3.10/site-packages (from langchain[openai]) (0.4.13)\n",
      "Requirement already satisfied: pydantic<3.0.0,>=2.7.4 in /Users/zz/miniconda3/envs/langchain_env/lib/python3.10/site-packages (from langchain[openai]) (2.11.7)\n",
      "Requirement already satisfied: SQLAlchemy<3,>=1.4 in /Users/zz/miniconda3/envs/langchain_env/lib/python3.10/site-packages (from langchain[openai]) (2.0.37)\n",
      "Requirement already satisfied: requests<3,>=2 in /Users/zz/miniconda3/envs/langchain_env/lib/python3.10/site-packages (from langchain[openai]) (2.32.3)\n",
      "Requirement already satisfied: PyYAML>=5.3 in /Users/zz/miniconda3/envs/langchain_env/lib/python3.10/site-packages (from langchain[openai]) (6.0.2)\n",
      "Requirement already satisfied: async-timeout<5.0.0,>=4.0.0 in /Users/zz/miniconda3/envs/langchain_env/lib/python3.10/site-packages (from langchain[openai]) (4.0.3)\n",
      "Requirement already satisfied: langchain-openai in /Users/zz/miniconda3/envs/langchain_env/lib/python3.10/site-packages (from langchain[openai]) (0.3.28)\n",
      "Requirement already satisfied: tenacity!=8.4.0,<10.0.0,>=8.1.0 in /Users/zz/miniconda3/envs/langchain_env/lib/python3.10/site-packages (from langchain-core<1.0.0,>=0.3.72->langchain[openai]) (8.5.0)\n",
      "Requirement already satisfied: jsonpatch<2.0,>=1.33 in /Users/zz/miniconda3/envs/langchain_env/lib/python3.10/site-packages (from langchain-core<1.0.0,>=0.3.72->langchain[openai]) (1.33)\n",
      "Requirement already satisfied: typing-extensions>=4.7 in /Users/zz/miniconda3/envs/langchain_env/lib/python3.10/site-packages (from langchain-core<1.0.0,>=0.3.72->langchain[openai]) (4.14.1)\n",
      "Requirement already satisfied: packaging>=23.2 in /Users/zz/miniconda3/envs/langchain_env/lib/python3.10/site-packages (from langchain-core<1.0.0,>=0.3.72->langchain[openai]) (23.2)\n",
      "Requirement already satisfied: httpx<1,>=0.23.0 in /Users/zz/miniconda3/envs/langchain_env/lib/python3.10/site-packages (from langsmith>=0.1.17->langchain[openai]) (0.27.2)\n",
      "Requirement already satisfied: orjson>=3.9.14 in /Users/zz/miniconda3/envs/langchain_env/lib/python3.10/site-packages (from langsmith>=0.1.17->langchain[openai]) (3.10.14)\n",
      "Requirement already satisfied: requests-toolbelt>=1.0.0 in /Users/zz/miniconda3/envs/langchain_env/lib/python3.10/site-packages (from langsmith>=0.1.17->langchain[openai]) (1.0.0)\n",
      "Requirement already satisfied: zstandard>=0.23.0 in /Users/zz/miniconda3/envs/langchain_env/lib/python3.10/site-packages (from langsmith>=0.1.17->langchain[openai]) (0.23.0)\n",
      "Requirement already satisfied: annotated-types>=0.6.0 in /Users/zz/miniconda3/envs/langchain_env/lib/python3.10/site-packages (from pydantic<3.0.0,>=2.7.4->langchain[openai]) (0.7.0)\n",
      "Requirement already satisfied: pydantic-core==2.33.2 in /Users/zz/miniconda3/envs/langchain_env/lib/python3.10/site-packages (from pydantic<3.0.0,>=2.7.4->langchain[openai]) (2.33.2)\n",
      "Requirement already satisfied: typing-inspection>=0.4.0 in /Users/zz/miniconda3/envs/langchain_env/lib/python3.10/site-packages (from pydantic<3.0.0,>=2.7.4->langchain[openai]) (0.4.1)\n",
      "Requirement already satisfied: charset-normalizer<4,>=2 in /Users/zz/miniconda3/envs/langchain_env/lib/python3.10/site-packages (from requests<3,>=2->langchain[openai]) (3.4.1)\n",
      "Requirement already satisfied: idna<4,>=2.5 in /Users/zz/miniconda3/envs/langchain_env/lib/python3.10/site-packages (from requests<3,>=2->langchain[openai]) (3.10)\n",
      "Requirement already satisfied: urllib3<3,>=1.21.1 in /Users/zz/miniconda3/envs/langchain_env/lib/python3.10/site-packages (from requests<3,>=2->langchain[openai]) (2.3.0)\n",
      "Requirement already satisfied: certifi>=2017.4.17 in /Users/zz/miniconda3/envs/langchain_env/lib/python3.10/site-packages (from requests<3,>=2->langchain[openai]) (2024.12.14)\n",
      "Requirement already satisfied: greenlet!=0.4.17 in /Users/zz/miniconda3/envs/langchain_env/lib/python3.10/site-packages (from SQLAlchemy<3,>=1.4->langchain[openai]) (3.1.1)\n",
      "Requirement already satisfied: openai<2.0.0,>=1.86.0 in /Users/zz/miniconda3/envs/langchain_env/lib/python3.10/site-packages (from langchain-openai->langchain[openai]) (1.99.6)\n",
      "Requirement already satisfied: tiktoken<1,>=0.7 in /Users/zz/miniconda3/envs/langchain_env/lib/python3.10/site-packages (from langchain-openai->langchain[openai]) (0.9.0)\n",
      "Requirement already satisfied: anyio in /Users/zz/miniconda3/envs/langchain_env/lib/python3.10/site-packages (from httpx<1,>=0.23.0->langsmith>=0.1.17->langchain[openai]) (4.8.0)\n",
      "Requirement already satisfied: httpcore==1.* in /Users/zz/miniconda3/envs/langchain_env/lib/python3.10/site-packages (from httpx<1,>=0.23.0->langsmith>=0.1.17->langchain[openai]) (1.0.7)\n",
      "Requirement already satisfied: sniffio in /Users/zz/miniconda3/envs/langchain_env/lib/python3.10/site-packages (from httpx<1,>=0.23.0->langsmith>=0.1.17->langchain[openai]) (1.3.1)\n",
      "Requirement already satisfied: h11<0.15,>=0.13 in /Users/zz/miniconda3/envs/langchain_env/lib/python3.10/site-packages (from httpcore==1.*->httpx<1,>=0.23.0->langsmith>=0.1.17->langchain[openai]) (0.14.0)\n",
      "Requirement already satisfied: jsonpointer>=1.9 in /Users/zz/miniconda3/envs/langchain_env/lib/python3.10/site-packages (from jsonpatch<2.0,>=1.33->langchain-core<1.0.0,>=0.3.72->langchain[openai]) (3.0.0)\n",
      "Requirement already satisfied: distro<2,>=1.7.0 in /Users/zz/miniconda3/envs/langchain_env/lib/python3.10/site-packages (from openai<2.0.0,>=1.86.0->langchain-openai->langchain[openai]) (1.9.0)\n",
      "Requirement already satisfied: jiter<1,>=0.4.0 in /Users/zz/miniconda3/envs/langchain_env/lib/python3.10/site-packages (from openai<2.0.0,>=1.86.0->langchain-openai->langchain[openai]) (0.8.2)\n",
      "Requirement already satisfied: tqdm>4 in /Users/zz/miniconda3/envs/langchain_env/lib/python3.10/site-packages (from openai<2.0.0,>=1.86.0->langchain-openai->langchain[openai]) (4.67.1)\n",
      "Requirement already satisfied: regex>=2022.1.18 in /Users/zz/miniconda3/envs/langchain_env/lib/python3.10/site-packages (from tiktoken<1,>=0.7->langchain-openai->langchain[openai]) (2024.11.6)\n",
      "Requirement already satisfied: exceptiongroup>=1.0.2 in /Users/zz/miniconda3/envs/langchain_env/lib/python3.10/site-packages (from anyio->httpx<1,>=0.23.0->langsmith>=0.1.17->langchain[openai]) (1.2.2)\n"
     ]
    }
   ],
   "source": [
    "!pip install -U \"langchain[openai]\"\n"
   ]
  },
  {
   "cell_type": "code",
   "execution_count": 14,
   "id": "bd023d8a",
   "metadata": {},
   "outputs": [
    {
     "name": "stdout",
     "output_type": "stream",
     "text": [
      "🤖 LLM 模型初始化成功！\n",
      "📡 使用 OpenRouter 访问 GPT-4o 模型\n",
      "🔧 模型支持工具调用 (Tool Calling) 功能\n"
     ]
    }
   ],
   "source": [
    "from langchain.chat_models import init_chat_model\n",
    "\n",
    "# 🤖 选择和初始化 LLM 模型\n",
    "# 这里我们使用 OpenRouter 来访问各种模型，避免网络访问问题\n",
    "\n",
    "# 方式一：使用 GPT-4o（推荐，性能优秀）\n",
    "llm = init_chat_model(\n",
    "    \"openai:openai/gpt-4o-mini\",\n",
    "    base_url=\"https://openrouter.ai/api/v1\"\n",
    ")\n",
    "\n",
    "# 💡 其他可选模型（取消注释来使用）：\n",
    "\n",
    "# 方式二：Claude 3.5 Sonnet（Anthropic 的顶级模型）\n",
    "# llm = init_chat_model(\n",
    "#     \"openai:anthropic/claude-3.5-sonnet\",\n",
    "#     base_url=\"https://openrouter.ai/api/v1\"\n",
    "# )\n",
    "\n",
    "# 方式三：Llama 3.1 405B（Meta 的开源大模型）\n",
    "# llm = init_chat_model(\n",
    "#     \"openai:meta-llama/llama-3.1-405b-instruct\",\n",
    "#     base_url=\"https://openrouter.ai/api/v1\"\n",
    "# )\n",
    "\n",
    "print(\"🤖 LLM 模型初始化成功！\")\n",
    "print(\"📡 使用 OpenRouter 访问 GPT-4o 模型\")\n",
    "print(\"🔧 模型支持工具调用 (Tool Calling) 功能\")\n",
    "# llm.invoke(\"What's a 'node' in LangGraph?\")"
   ]
  },
  {
   "cell_type": "code",
   "execution_count": 15,
   "id": "8f985173",
   "metadata": {},
   "outputs": [
    {
     "name": "stdout",
     "output_type": "stream",
     "text": [
      "Chat model 初始化成功（使用 LiteLLM proxy 服务）！\n",
      "content='Hello! How can I assist you today?' additional_kwargs={'refusal': None} response_metadata={'token_usage': {'completion_tokens': 10, 'prompt_tokens': 8, 'total_tokens': 18, 'completion_tokens_details': {'accepted_prediction_tokens': None, 'audio_tokens': None, 'reasoning_tokens': 0, 'rejected_prediction_tokens': None}, 'prompt_tokens_details': {'audio_tokens': None, 'cached_tokens': 0, 'text_tokens': None, 'image_tokens': None}}, 'model_name': 'openai/gpt-4o-2024-05-13', 'system_fingerprint': 'fp_3eed281ddb', 'id': 'gen-1754902089-7ItAK1YjaOvZ59JWkCXZ', 'service_tier': None, 'finish_reason': 'stop', 'logprobs': None} id='run--7a668bdb-04d3-489a-82f8-78d563dd8ee2-0' usage_metadata={'input_tokens': 8, 'output_tokens': 10, 'total_tokens': 18, 'input_token_details': {'cache_read': 0}, 'output_token_details': {'reasoning': 0}}\n"
     ]
    }
   ],
   "source": [
    "import os\n",
    "from langchain_openai import ChatOpenAI\n",
    "\n",
    "# Set environment variables for LiteLLM proxy\n",
    "os.environ[\"OPENAI_API_KEY\"] = \"sk-T_EZVz6InxOFDtwgEBzBaw\"  # rotate if exposed\n",
    "os.environ[\"OPENAI_BASE_URL\"] = \"http://localhost:4000\"\n",
    "\n",
    "# Initialize ChatOpenAI (new LangChain style)\n",
    "llm = ChatOpenAI(\n",
    "    model=\"openrouter/openai/gpt-4o-2024-05-13\",\n",
    "    base_url=\"http://localhost:4000\"\n",
    ")\n",
    "\n",
    "print(\"Chat model 初始化成功（使用 LiteLLM proxy 服务）！\")\n",
    "\n",
    "# Example call\n",
    "response = llm.invoke(\"hi\")\n",
    "print(response)"
   ]
  },
  {
   "cell_type": "markdown",
   "id": "4b503678",
   "metadata": {},
   "source": [
    "现在我们可以将其整合到 StateGraph 中："
   ]
  },
  {
   "cell_type": "code",
   "execution_count": 16,
   "id": "8c883c15",
   "metadata": {},
   "outputs": [],
   "source": [
    "from typing import Annotated\n",
    "from typing_extensions import TypedDict\n",
    "from langgraph.graph import StateGraph, START, END\n",
    "from langgraph.graph.message import add_messages\n",
    "\n",
    "# 定义状态类型\n",
    "class State(TypedDict):\n",
    "    messages: Annotated[list, add_messages]\n",
    "\n"
   ]
  },
  {
   "cell_type": "markdown",
   "id": "2a983010",
   "metadata": {},
   "source": [
    "LangGraph 中状态结构的定义详解\n",
    "\n",
    "这段代码定义了 LangGraph 中图（graph）的**状态结构**，是构建聊天机器人或多步骤代理（agent）的**核心部分**。\n",
    "\n",
    "简单来说，这段代码定义了一个名为 `State` 的数据结构。它必须包含一个叫做 `messages` 的键，该键的值是一个**列表**，并且这个列表会以**累加的方式**进行更新。\n",
    "\n",
    "---\n",
    "\n",
    "### 📦 代码分解\n",
    "\n",
    "我们逐个分析每个部分：\n",
    "\n",
    "```python\n",
    "class State(TypedDict):\n",
    "    messages: Annotated[list, add_messages]\n",
    "```\n",
    "\n",
    "#### ✅ `class State(TypedDict):`\n",
    "\n",
    "- `TypedDict` 是 Python `typing` 模块中的一个功能，允许你创建带有**类型提示**的字典结构。\n",
    "- 在 LangGraph 中，`State` 是在图的各个**节点之间传递的数据对象**。\n",
    "- 这确保了你的状态始终是一个包含预定义键的字典，例如 `messages`。\n",
    "\n",
    "---\n",
    "\n",
    "#### ✅ `messages: ...`\n",
    "\n",
    "- 在 `State` 类型中定义了一个键，名为 `messages`。\n",
    "- 这个键通常用来**存储对话历史**，例如用户的输入和 AI 的回复。\n",
    "\n",
    "---\n",
    "\n",
    "#### ✅ `Annotated[list, add_messages]`\n",
    "\n",
    "这是最关键的一行，它定义了 `messages` 的类型和更新方式：\n",
    "\n",
    "- `list`：表示 `messages` 的值是一个列表。\n",
    "- `Annotated`：Python 的类型提示增强工具，允许我们**给类型添加元数据**。\n",
    "- `add_messages`：LangGraph 提供的一个**特殊函数（reducer）**，用于指示图如何更新 `messages` 列表。\n",
    "\n",
    "---\n",
    "\n",
    "### 🔁 核心功能：`add_messages`\n",
    "\n",
    "`add_messages` 的作用是确保对话历史的**连续性**。\n",
    "\n",
    "#### 🚫 没有 `add_messages` 时的情况：\n",
    "\n",
    "- 初始状态：\n",
    "  ```python\n",
    "  {\"messages\": [HumanMessage(\"你好\")]}\n",
    "  ```\n",
    "\n",
    "- 节点返回新消息：\n",
    "  ```python\n",
    "  [AIMessage(\"你好！有什么可以帮你的吗？\")]\n",
    "  ```\n",
    "\n",
    "- 状态更新结果（**被覆盖**）：\n",
    "  ```python\n",
    "  {\"messages\": [AIMessage(\"你好！有什么可以帮你的吗？\")]}\n",
    "  ```\n",
    "\n",
    "原始的人类消息 **被丢弃了**。\n",
    "\n",
    "---\n",
    "\n",
    "#### ✅ 使用 `add_messages` 时的情况：\n",
    "\n",
    "- 初始状态：\n",
    "  ```python\n",
    "  {\"messages\": [HumanMessage(\"你好\")]}\n",
    "  ```\n",
    "\n",
    "- 节点返回新消息：\n",
    "  ```python\n",
    "  [AIMessage(\"你好！有什么可以帮你的吗？\")]\n",
    "  ```\n",
    "\n",
    "- 状态更新结果（**自动追加**）：\n",
    "  ```python\n",
    "  {\"messages\": [HumanMessage(\"你好\"), AIMessage(\"你好！有什么可以帮你的吗？\")]}\n",
    "  ```\n",
    "\n",
    "对话历史被**完整保留** ✅\n",
    "\n",
    "---\n",
    "\n",
    "## 总结 🧑‍💻\n",
    "\n",
    "这段代码为 LangGraph 中的状态定义了一个清晰的蓝图：\n",
    "\n",
    "- **结构**：状态是一个字典，包含 `messages` 键。\n",
    "- **类型**：`messages` 是一个列表。\n",
    "- **行为**：新消息将被**追加**到消息列表中，而不是替换掉原有内容。\n"
   ]
  },
  {
   "cell_type": "code",
   "execution_count": 17,
   "id": "4e817301",
   "metadata": {},
   "outputs": [
    {
     "name": "stdout",
     "output_type": "stream",
     "text": [
      "📊 StateGraph 创建成功！\n",
      "🔧 LLM 已绑定工具，可以进行工具调用\n"
     ]
    }
   ],
   "source": [
    "\n",
    "# 创建图构建器\n",
    "graph_builder = StateGraph(State)\n",
    "\n",
    "# 🔧 修改：告诉 LLM 它可以调用哪些工具\n",
    "llm_with_tools = llm.bind_tools(tools)\n",
    "\n",
    "def chatbot(state: State):\n",
    "    \"\"\"聊天机器人节点：处理用户消息并可能调用工具\"\"\"\n",
    "    return {\"messages\": [llm_with_tools.invoke(state[\"messages\"])]}\n",
    "\n",
    "# 添加聊天机器人节点\n",
    "graph_builder.add_node(\"chatbot\", chatbot)\n",
    "\n",
    "print(\"📊 StateGraph 创建成功！\")\n",
    "print(\"🔧 LLM 已绑定工具，可以进行工具调用\")"
   ]
  },
  {
   "cell_type": "markdown",
   "id": "57e94e15",
   "metadata": {},
   "source": [
    "## 5. 创建运行工具的函数\n",
    "\n",
    "现在，创建一个函数来运行被调用的工具。通过添加工具到名为 `BasicToolNode` 的新节点来实现这一点，该节点检查状态中的最新消息，如果消息包含 `tool_calls`，则调用工具。"
   ]
  },
  {
   "cell_type": "code",
   "execution_count": 18,
   "id": "e860c1fc",
   "metadata": {},
   "outputs": [
    {
     "name": "stdout",
     "output_type": "stream",
     "text": [
      "🛠️ BasicToolNode 创建成功！\n",
      "📝 注意: 在实际项目中，您可以使用 LangGraph 的预构建 ToolNode\n"
     ]
    }
   ],
   "source": [
    "import json\n",
    "from langchain_core.messages import ToolMessage\n",
    "\n",
    "class BasicToolNode:\n",
    "    \"\"\"运行最后一条 AI 消息中请求的工具的节点\"\"\"\n",
    "\n",
    "    def __init__(self, tools: list) -> None:\n",
    "        # 创建工具名称到工具对象的映射\n",
    "        self.tools_by_name = {tool.name: tool for tool in tools}\n",
    "\n",
    "    def __call__(self, inputs: dict):\n",
    "        \"\"\"处理工具调用\"\"\"\n",
    "        if messages := inputs.get(\"messages\", []):\n",
    "            message = messages[-1]  # 获取最后一条消息\n",
    "        else:\n",
    "            raise ValueError(\"在输入中没有找到消息\")\n",
    "        \n",
    "        outputs = []\n",
    "        # 处理消息中的每个工具调用\n",
    "        for tool_call in message.tool_calls:\n",
    "            # 调用相应的工具\n",
    "            tool_result = self.tools_by_name[tool_call[\"name\"]].invoke(\n",
    "                tool_call[\"args\"]\n",
    "            )\n",
    "            # 创建工具消息\n",
    "            outputs.append(\n",
    "                ToolMessage(\n",
    "                    content=json.dumps(tool_result),\n",
    "                    name=tool_call[\"name\"],\n",
    "                    tool_call_id=tool_call[\"id\"],\n",
    "                )\n",
    "            )\n",
    "        return {\"messages\": outputs}\n",
    "\n",
    "# 创建工具节点\n",
    "tool_node = BasicToolNode(tools=[tool])\n",
    "graph_builder.add_node(\"tools\", tool_node)\n",
    "\n",
    "print(\"🛠️ BasicToolNode 创建成功！\")\n",
    "print(\"📝 注意: 在实际项目中，您可以使用 LangGraph 的预构建 ToolNode\")"
   ]
  },
  {
   "cell_type": "markdown",
   "id": "0680a9ac",
   "metadata": {},
   "source": [
    "## 6. 定义条件边 (Define Conditional Edges)\n",
    "\n",
    "添加工具节点后，现在可以定义条件边。\n",
    "\n",
    "边路由控制流从一个节点到下一个节点。条件边从单个节点开始，通常包含\"if\"语句，根据当前图状态路由到不同的节点。\n",
    "\n",
    "接下来，定义一个名为 `route_tools` 的路由函数，该函数检查聊天机器人输出中的 `tool_calls`。通过调用 `add_conditional_edges` 将此函数提供给图，告诉图每当聊天机器人节点完成时检查此函数以查看下一步去哪里。\n",
    "\n",
    "条件将在存在工具调用时路由到工具，如果没有则路由到 END。由于条件可以返回 END，这次您不需要显式设置 `finish_point`。\n",
    "\n",
    "### 🔄 工作流程说明\n",
    "\n",
    "1. **用户输入** → `chatbot` 节点\n",
    "2. **chatbot 处理**：\n",
    "   - 如果需要工具 → 路由到 `tools` 节点\n",
    "   - 如果可以直接回答 → 路由到 `END`\n",
    "3. **tools 执行** → 返回到 `chatbot` 节点（形成循环）\n",
    "4. **最终回复** → `END`\n",
    "\n",
    "这种条件路由定义了主要的代理循环，使聊天机器人能够：\n",
    "- 自主决定是否需要工具\n",
    "- 执行多步骤推理\n",
    "- 在获得足够信息后提供最终答案"
   ]
  },
  {
   "cell_type": "code",
   "execution_count": 19,
   "id": "58b42675",
   "metadata": {},
   "outputs": [
    {
     "name": "stdout",
     "output_type": "stream",
     "text": [
      "🎯 条件边配置完成！\n",
      "📊 图编译成功！\n",
      "\n",
      "🔄 工作流程:\n",
      "1. START → chatbot (处理用户输入)\n",
      "2. chatbot → tools (如果需要工具调用)\n",
      "3. tools → chatbot (工具执行完成后)\n",
      "4. chatbot → END (最终回复)\n"
     ]
    }
   ],
   "source": [
    "def route_tools(state: State):\n",
    "    \"\"\"\n",
    "    在条件边中使用，如果最后一条消息有工具调用，则路由到 ToolNode。\n",
    "    否则，路由到结束。\n",
    "    \"\"\"\n",
    "    if isinstance(state, list):\n",
    "        ai_message = state[-1]\n",
    "    elif messages := state.get(\"messages\", []):\n",
    "        ai_message = messages[-1]\n",
    "    else:\n",
    "        raise ValueError(f\"在输入状态中没有找到消息: {state}\")\n",
    "    \n",
    "    # 检查是否有工具调用\n",
    "    if hasattr(ai_message, \"tool_calls\") and len(ai_message.tool_calls) > 0:\n",
    "        print(f\"🔧 检测到工具调用: {len(ai_message.tool_calls)} 个工具\")\n",
    "        return \"tools\"\n",
    "    print(\"💬 无工具调用，直接回复\")\n",
    "    return END\n",
    "\n",
    "# `tools_condition` 函数如果聊天机器人要求使用工具则返回 \"tools\"，\n",
    "# 如果它可以直接回复则返回 \"END\"。这种条件路由定义了主要的代理循环。\n",
    "graph_builder.add_conditional_edges(\n",
    "    \"chatbot\",\n",
    "    route_tools,\n",
    "    # 以下字典让您告诉图将条件的输出解释为特定节点\n",
    "    # 默认为恒等函数，但如果您想使用除了 \"tools\" 之外的其他名称的节点，\n",
    "    # 您可以将字典的值更新为其他内容\n",
    "    # 例如：\"tools\": \"my_tools\"\n",
    "    {\"tools\": \"tools\", END: END},\n",
    ")\n",
    "\n",
    "# 任何时候调用工具，我们都回到聊天机器人来决定下一步\n",
    "graph_builder.add_edge(\"tools\", \"chatbot\")\n",
    "graph_builder.add_edge(START, \"chatbot\")\n",
    "\n",
    "# 编译图\n",
    "graph = graph_builder.compile()\n",
    "\n",
    "print(\"🎯 条件边配置完成！\")\n",
    "print(\"📊 图编译成功！\")\n",
    "print(\"\\n🔄 工作流程:\")\n",
    "print(\"1. START → chatbot (处理用户输入)\")\n",
    "print(\"2. chatbot → tools (如果需要工具调用)\")\n",
    "print(\"3. tools → chatbot (工具执行完成后)\")\n",
    "print(\"4. chatbot → END (最终回复)\")"
   ]
  },
  {
   "cell_type": "markdown",
   "id": "abe52e50",
   "metadata": {},
   "source": [
    "## 7. 可视化图结构 (可选)\n",
    "\n",
    "您可以使用 `get_graph` 方法和其中一种\"绘制\"方法来可视化图，如 `draw_ascii` 或 `draw_png`。"
   ]
  },
  {
   "cell_type": "code",
   "execution_count": 20,
   "id": "80f57151",
   "metadata": {},
   "outputs": [
    {
     "data": {
      "image/png": "[encoded data removed]",
      "text/plain": [
       "<IPython.core.display.Image object>"
      ]
     },
     "metadata": {},
     "output_type": "display_data"
    },
    {
     "name": "stdout",
     "output_type": "stream",
     "text": [
      "📊 图结构可视化显示成功！\n"
     ]
    }
   ],
   "source": [
    "from IPython.display import Image, display\n",
    "\n",
    "# 尝试显示图的可视化\n",
    "try:\n",
    "    # 使用 Mermaid 绘制图\n",
    "    display(Image(graph.get_graph().draw_mermaid_png()))\n",
    "    print(\"📊 图结构可视化显示成功！\")\n",
    "except Exception as e:\n",
    "    # 如果无法绘制图像，显示 ASCII 版本\n",
    "    print(\"⚠️ 无法显示图像，显示 ASCII 版本:\")\n",
    "    print(graph.get_graph().draw_ascii())\n",
    "    print(f\"\\n🔧 提示: 要显示图像版本，需要安装额外依赖\")\n",
    "    print(\"错误信息:\", str(e))"
   ]
  },
  {
   "cell_type": "markdown",
   "id": "32f7d7c4",
   "metadata": {},
   "source": [
    "## 8. 询问机器人问题\n",
    "\n",
    "现在您可以向聊天机器人询问其训练数据之外的问题："
   ]
  },
  {
   "cell_type": "code",
   "execution_count": 21,
   "id": "c74bc363",
   "metadata": {},
   "outputs": [
    {
     "name": "stdout",
     "output_type": "stream",
     "text": [
      "🔧 检测到工具调用: 1 个工具\n",
      "Assistant: \n",
      "Assistant: {\"query\": \"Kuala Lumpur weather today\", \"follow_up_questions\": null, \"answer\": null, \"images\": [], \"results\": [{\"title\": \"Weather in Kuala Lumpur\", \"url\": \"https://www.weatherapi.com/\", \"content\": \"{'location': {'name': 'Kuala Lumpur', 'region': 'Kuala Lumpur', 'country': 'Malaysia', 'lat': 3.1667, 'lon': 101.7, 'tz_id': 'Asia/Kuala_Lumpur', 'localtime_epoch': 1754902125, 'localtime': '2025-08-11 16:48'}, 'current': {'last_updated_epoch': 1754901900, 'last_updated': '2025-08-11 16:45', 'temp_c': 29.2, 'temp_f': 84.6, 'is_day': 1, 'condition': {'text': 'Light rain', 'icon': '//cdn.weatherapi.com/weather/64x64/day/296.png', 'code': 1183}, 'wind_mph': 3.6, 'wind_kph': 5.8, 'wind_degree': 324, 'wind_dir': 'NW', 'pressure_mb': 1009.0, 'pressure_in': 29.8, 'precip_mm': 1.33, 'precip_in': 0.05, 'humidity': 70, 'cloud': 25, 'feelslike_c': 39.2, 'feelslike_f': 102.6, 'windchill_c': 22.4, 'windchill_f': 72.4, 'heatindex_c': 24.9, 'heatindex_f': 76.8, 'dewpoint_c': 21.8, 'dewpoint_f': 71.3, 'vis_km': 10.0, 'vis_miles': 6.0, 'uv': 2.6, 'gust_mph': 4.5, 'gust_kph': 7.3}}\", \"score\": 0.8700286, \"raw_content\": null}, {\"url\": \"https://www.accuweather.com/en/my/kuala-lumpur/233776/weather-forecast/233776\", \"title\": \"Kuala Lumpur, Kuala Lumpur, Malaysia Weather Forecast\", \"content\": \"Kuala Lumpur, Kuala Lumpur, Malaysia Weather Forecast, with current ... Today's Weather. Mon, Aug 11. Variable cloudiness Hi: 84\\u00b0. Tonight: Clouds breaking Lo\", \"score\": 0.8058924, \"raw_content\": null}], \"response_time\": 2.23}\n",
      "💬 无工具调用，直接回复\n",
      "Assistant: The weather in Kuala Lumpur today includes:\n",
      "\n",
      "- Temperature: 29.2°C (84.6°F)\n",
      "- Condition: Light rain\n",
      "- Wind: 5.8 kph (3.6 mph) from the northwest\n",
      "- Humidity: 70%\n",
      "- Cloud Cover: 25%\n",
      "- Precipitation: 1.33 mm (0.05 in)\n",
      "- Visibility: 10 km (6 miles)\n",
      "- UV Index: 2.6\n",
      "\n",
      "Feel free to check detailed updates and forecasts on [Weather API](https://www.weatherapi.com/) or [AccuWeather](https://www.accuweather.com/en/my/kuala-lumpur/233776/weather-forecast/233776).\n",
      "🔧 检测到工具调用: 1 个工具\n",
      "Assistant: \n",
      "Assistant: {\"query\": \"today's date\", \"follow_up_questions\": null, \"answer\": null, \"images\": [], \"results\": [{\"url\": \"https://www.datetoday.net/\", \"title\": \"What is the date today? Today's Date\", \"content\": \"Today's Date is Sun Aug 10 2025. About Date Today. The term \\\"Date Today\\\" refers to the current calendar date as determined by a system's internal clock\", \"score\": 0.91137725, \"raw_content\": null}, {\"url\": \"https://isotropic.org/date/\", \"title\": \"Today's Date\", \"content\": \"Today's Date. If this is working, then. Today is: Gregorian: Sunday, 10 August 2025. Mayan: Long count = 13.0.12.14.15; tzolkin = 4 Men; haab = 13 Yaxkin.\", \"score\": 0.88705814, \"raw_content\": null}], \"response_time\": 1.19}\n",
      "💬 无工具调用，直接回复\n",
      "Assistant: 今天是2025年8月10日，星期日。\n",
      "🔧 检测到工具调用: 1 个工具\n",
      "Assistant: \n",
      "Assistant: {\"query\": \"\\u56de\\u7b54\\u7684\\u4e0d\\u5bf9\\uff0c\\u8c03\\u7528\\u5de5\\u5177\", \"follow_up_questions\": null, \"answer\": null, \"images\": [], \"results\": [{\"url\": \"https://zhuanlan.zhihu.com/p/7570655613\", \"title\": \"LLM tool\\u529f\\u80fd\\u6a2a\\u5411\\u6d4b\\u8bd5V0.5\\uff1a\\u4e0d\\u5bb9\\u4e50\\u89c2\\u7684\\u73b0\\u5b9e[2024.11]\", \"content\": \"\\u4e0d\\u80fd\\u89e6\\u53d1tools\\u8c03\\u7528; \\u4e00\\u4e0a\\u6765\\u5c31\\u89e6\\u53d1tool\\u8c03\\u7528\\uff0c\\u6ca1\\u6709\\u524d\\u9762\\u6b65\\u9aa4\\u7684\\u56de\\u7b54\\u3002 tools\\u8c03\\u7528\\u7684\\u51fd\\u6570\\u540d\\u4e0d\\u5339\\u914d\\u6216\\u53c2\\u6570\\u4e0d\\u7b26\\u5408\\u8981\\u6c42; \\u8fd4\\u56detools\\u8c03\\u7528\\u7ed3\\u679c\\u540e\\u4e0d\\u80fd\\u6b63\\u786e\\u7684\\u7ee7\\u7eed\\u6267\\u884c. \\u867d\\u7136tool\\u7ed9\\u7684\\u662f\", \"score\": 0.42162386, \"raw_content\": null}, {\"url\": \"https://github.com/chatchat-space/Langchain-Chatchat/issues/3248\", \"title\": \"\\u5173\\u4e8eagent\\u8c03\\u7528tool\\u7684\\u8fd4\\u56de\\u95ee\\u9898#3248\", \"content\": \"\\u5173\\u4e8e\\u524d\\u7aef\\u663e\\u793a\\\"\\u8c03\\u7528agent\\u5de5\\u5177\\u5931\\u8d25\\\"\\u7684\\u95ee\\u9898\\uff0c\\u5c3d\\u7ba1\\u81ea\\u5b9a\\u4e49tool\\u6709\\u8fd4\\u56de\\u5185\\u5bb9\\uff0c\\u8fd9\\u8868\\u660e\\u524d\\u7aef\\u53ef\\u80fd\\u5728\\u89e3\\u91ca\\u6216\\u5904\\u7406\\u540e\\u7aef\\u54cd\\u5e94\\u65f6\\u5b58\\u5728\\u95ee\\u9898\\u3002 \\u6839\\u636e\\u63d0\\u4f9b\\u7684\\u540e\\u7aef\\u903b\\u8f91\\uff0c\\u9519\\u8bef\\u53ef\\u80fd\\u6e90\\u4e8e\\uff1a\", \"score\": 0.3781381, \"raw_content\": null}], \"response_time\": 0.97}\n",
      "💬 无工具调用，直接回复\n",
      "Assistant: 刚才您提到“回答的不对，调用工具”，似乎是在说我给出的回答有误。可以再具体指出哪里不对吗？这样我可以更有针对性地帮助您解决问题。\n",
      "User: What do you know about LangGraph?\n",
      "🔧 检测到工具调用: 1 个工具\n",
      "Assistant: \n",
      "Assistant: {\"query\": \"LangGraph\", \"follow_up_questions\": null, \"answer\": null, \"images\": [], \"results\": [{\"url\": \"https://www.langchain.com/langgraph\", \"title\": \"LangGraph - LangChain\", \"content\": \"Design agent-driven user experiences with LangGraph Platform's APIs. Quickly deploy and scale your application with infrastructure built for agents. LangGraph sets the foundation for how we can build and scale AI workloads \\u2014 from conversational agents, complex task automation, to custom LLM-backed experiences that 'just work'. The next chapter in building complex production-ready features with LLMs is agentic, and with LangGraph and LangSmith, LangChain delivers an out-of-the-box solution to iterate quickly, debug immediately, and scale effortlessly.\\u201d LangGraph sets the foundation for how we can build and scale AI workloads \\u2014 from conversational agents, complex task automation, to custom LLM-backed experiences that 'just work'. LangGraph Platform is a service for deploying and scaling LangGraph applications, with an opinionated API for building agent UXs, plus an integrated developer studio.\", \"score\": 0.98591, \"raw_content\": null}, {\"url\": \"https://github.com/langchain-ai/langgraph\", \"title\": \"langchain-ai/langgraph: Build resilient language agents as graphs.\", \"content\": \"Bhadiyadra <35532869+yagneshmb@users.noreply.github.com> Co-authored-by: ygicp <yagnesh@infocusp.com> Co-authored-by: Ahmed Murtaza <ahmed.gmurtaza@hotmail.com> Co-authored-by: ahmed murtaza <ahmed.gmurtaza@gmail.com>\\\")#5494): Add codespell for docs md and py files (#5494) * docs: Add codespell for markdown files * update * remove path * fix * update linting guidelines * chore[deps]: upgrade dependencies with `uv lock --upgrade` (#5471) Co-authored-by: sydney-runkle <54324534+sydney-runkle@users.noreply.github.com> * fix(checkpoint): correct logging call to use logger (#5458) fix[checkpoint]: correct logging call to use logger * release(langgraph): v0.5.3 (#5498) bump * extend to cover python files used for reference docs * fix(docs): Update the graph image link (#5500) Update the graph image link Point to the correct image reference for Map-Reduce and the Send API example * fix(docs): Update graph-api.md File to reflect correct image (#5499) Update graph-api.md File to reflect correct image Referencing to the correct image file * docs(prebuilt): improve documentation in ToolNode module (#5497) Update documentation in ToolNode module * Update changelog via LangGraph Server Changelog Bot * feat(sdk-py): Show is_studio_user (#5505) * Update changelog via LangGraph Server Changelog Bot * fix(docs): Node caching explanation code required a small fix,.\", \"score\": 0.9811, \"raw_content\": null}], \"response_time\": 1.29}\n",
      "💬 无工具调用，直接回复\n",
      "Assistant: LangGraph is a platform developed by LangChain, designed to facilitate the deployment and scaling of applications using language models (LLMs). It is particularly tailored for creating agent-driven user experiences and comes with an opinionated API for building agent UIs. Some key features and aspects include:\n",
      "\n",
      "- **Agent-Driven User Experiences**: LangGraph focuses on building and scaling AI workloads. It supports conversational agents, complex task automation, and custom LLM-backed experiences.\n",
      "- **Integration with LangSmith**: Together with LangSmith, LangGraph offers out-of-the-box solutions for quickly iterating, debugging, and scaling applications.\n",
      "- **Developer Studio**: The platform includes an integrated developer studio for managing and deploying LangGraph applications.\n",
      "- **Open Source**: The LangGraph codebase is available on GitHub, which facilitates community contributions and collaboration.\n",
      "\n",
      "For more information, you can visit:\n",
      "- [LangGraph on LangChain](https://www.langchain.com/langgraph)\n",
      "- [LangGraph GitHub Repository](https://github.com/langchain-ai/langgraph)\n"
     ]
    }
   ],
   "source": [
    "def stream_graph_updates(user_input: str):\n",
    "    for event in graph.stream({\"messages\": [{\"role\": \"user\", \"content\": user_input}]}):\n",
    "        for value in event.values():\n",
    "            print(\"Assistant:\", value[\"messages\"][-1].content)\n",
    "\n",
    "while True:\n",
    "    try:\n",
    "        user_input = input(\"User: \")\n",
    "        if user_input.lower() in [\"quit\", \"exit\", \"q\"]:\n",
    "            print(\"Goodbye!\")\n",
    "            break\n",
    "\n",
    "        stream_graph_updates(user_input)\n",
    "    except:\n",
    "        # fallback if input() is not available\n",
    "        user_input = \"What do you know about LangGraph?\"\n",
    "        print(\"User: \" + user_input)\n",
    "        stream_graph_updates(user_input)\n",
    "        break\n"
   ]
  },
  {
   "cell_type": "markdown",
   "id": "15e5b10c",
   "metadata": {},
   "source": [
    "## 9. 使用预构建组件\n",
    "\n",
    "为了便于使用，我们可以用 LangGraph 预构建组件替换自定义代码。这些组件具有内置功能，如并行 API 执行。\n",
    "\n",
    "- `BasicToolNode` 被预构建的 `ToolNode` 替换\n",
    "- `route_tools` 被预构建的 `tools_condition` 替换"
   ]
  },
  {
   "cell_type": "code",
   "execution_count": 22,
   "id": "523c3882",
   "metadata": {},
   "outputs": [
    {
     "name": "stdout",
     "output_type": "stream",
     "text": [
      "Requirement already satisfied: langgraph.prebuilt in /Users/zz/miniconda3/envs/langchain_env/lib/python3.10/site-packages (0.6.4)\n",
      "Requirement already satisfied: langchain-core>=0.3.67 in /Users/zz/miniconda3/envs/langchain_env/lib/python3.10/site-packages (from langgraph.prebuilt) (0.3.74)\n",
      "Requirement already satisfied: langgraph-checkpoint<3.0.0,>=2.1.0 in /Users/zz/miniconda3/envs/langchain_env/lib/python3.10/site-packages (from langgraph.prebuilt) (2.1.1)\n",
      "Requirement already satisfied: langsmith>=0.3.45 in /Users/zz/miniconda3/envs/langchain_env/lib/python3.10/site-packages (from langchain-core>=0.3.67->langgraph.prebuilt) (0.4.13)\n",
      "Requirement already satisfied: tenacity!=8.4.0,<10.0.0,>=8.1.0 in /Users/zz/miniconda3/envs/langchain_env/lib/python3.10/site-packages (from langchain-core>=0.3.67->langgraph.prebuilt) (8.5.0)\n",
      "Requirement already satisfied: jsonpatch<2.0,>=1.33 in /Users/zz/miniconda3/envs/langchain_env/lib/python3.10/site-packages (from langchain-core>=0.3.67->langgraph.prebuilt) (1.33)\n",
      "Requirement already satisfied: PyYAML>=5.3 in /Users/zz/miniconda3/envs/langchain_env/lib/python3.10/site-packages (from langchain-core>=0.3.67->langgraph.prebuilt) (6.0.2)\n",
      "Requirement already satisfied: typing-extensions>=4.7 in /Users/zz/miniconda3/envs/langchain_env/lib/python3.10/site-packages (from langchain-core>=0.3.67->langgraph.prebuilt) (4.14.1)\n",
      "Requirement already satisfied: packaging>=23.2 in /Users/zz/miniconda3/envs/langchain_env/lib/python3.10/site-packages (from langchain-core>=0.3.67->langgraph.prebuilt) (23.2)\n",
      "Requirement already satisfied: pydantic>=2.7.4 in /Users/zz/miniconda3/envs/langchain_env/lib/python3.10/site-packages (from langchain-core>=0.3.67->langgraph.prebuilt) (2.11.7)\n",
      "Requirement already satisfied: ormsgpack>=1.10.0 in /Users/zz/miniconda3/envs/langchain_env/lib/python3.10/site-packages (from langgraph-checkpoint<3.0.0,>=2.1.0->langgraph.prebuilt) (1.10.0)\n",
      "Requirement already satisfied: jsonpointer>=1.9 in /Users/zz/miniconda3/envs/langchain_env/lib/python3.10/site-packages (from jsonpatch<2.0,>=1.33->langchain-core>=0.3.67->langgraph.prebuilt) (3.0.0)\n",
      "Requirement already satisfied: httpx<1,>=0.23.0 in /Users/zz/miniconda3/envs/langchain_env/lib/python3.10/site-packages (from langsmith>=0.3.45->langchain-core>=0.3.67->langgraph.prebuilt) (0.27.2)\n",
      "Requirement already satisfied: orjson>=3.9.14 in /Users/zz/miniconda3/envs/langchain_env/lib/python3.10/site-packages (from langsmith>=0.3.45->langchain-core>=0.3.67->langgraph.prebuilt) (3.10.14)\n",
      "Requirement already satisfied: requests-toolbelt>=1.0.0 in /Users/zz/miniconda3/envs/langchain_env/lib/python3.10/site-packages (from langsmith>=0.3.45->langchain-core>=0.3.67->langgraph.prebuilt) (1.0.0)\n",
      "Requirement already satisfied: requests>=2.0.0 in /Users/zz/miniconda3/envs/langchain_env/lib/python3.10/site-packages (from langsmith>=0.3.45->langchain-core>=0.3.67->langgraph.prebuilt) (2.32.3)\n",
      "Requirement already satisfied: zstandard>=0.23.0 in /Users/zz/miniconda3/envs/langchain_env/lib/python3.10/site-packages (from langsmith>=0.3.45->langchain-core>=0.3.67->langgraph.prebuilt) (0.23.0)\n",
      "Requirement already satisfied: annotated-types>=0.6.0 in /Users/zz/miniconda3/envs/langchain_env/lib/python3.10/site-packages (from pydantic>=2.7.4->langchain-core>=0.3.67->langgraph.prebuilt) (0.7.0)\n",
      "Requirement already satisfied: pydantic-core==2.33.2 in /Users/zz/miniconda3/envs/langchain_env/lib/python3.10/site-packages (from pydantic>=2.7.4->langchain-core>=0.3.67->langgraph.prebuilt) (2.33.2)\n",
      "Requirement already satisfied: typing-inspection>=0.4.0 in /Users/zz/miniconda3/envs/langchain_env/lib/python3.10/site-packages (from pydantic>=2.7.4->langchain-core>=0.3.67->langgraph.prebuilt) (0.4.1)\n",
      "Requirement already satisfied: anyio in /Users/zz/miniconda3/envs/langchain_env/lib/python3.10/site-packages (from httpx<1,>=0.23.0->langsmith>=0.3.45->langchain-core>=0.3.67->langgraph.prebuilt) (4.8.0)\n",
      "Requirement already satisfied: certifi in /Users/zz/miniconda3/envs/langchain_env/lib/python3.10/site-packages (from httpx<1,>=0.23.0->langsmith>=0.3.45->langchain-core>=0.3.67->langgraph.prebuilt) (2024.12.14)\n",
      "Requirement already satisfied: httpcore==1.* in /Users/zz/miniconda3/envs/langchain_env/lib/python3.10/site-packages (from httpx<1,>=0.23.0->langsmith>=0.3.45->langchain-core>=0.3.67->langgraph.prebuilt) (1.0.7)\n",
      "Requirement already satisfied: idna in /Users/zz/miniconda3/envs/langchain_env/lib/python3.10/site-packages (from httpx<1,>=0.23.0->langsmith>=0.3.45->langchain-core>=0.3.67->langgraph.prebuilt) (3.10)\n",
      "Requirement already satisfied: sniffio in /Users/zz/miniconda3/envs/langchain_env/lib/python3.10/site-packages (from httpx<1,>=0.23.0->langsmith>=0.3.45->langchain-core>=0.3.67->langgraph.prebuilt) (1.3.1)\n",
      "Requirement already satisfied: h11<0.15,>=0.13 in /Users/zz/miniconda3/envs/langchain_env/lib/python3.10/site-packages (from httpcore==1.*->httpx<1,>=0.23.0->langsmith>=0.3.45->langchain-core>=0.3.67->langgraph.prebuilt) (0.14.0)\n",
      "Requirement already satisfied: charset-normalizer<4,>=2 in /Users/zz/miniconda3/envs/langchain_env/lib/python3.10/site-packages (from requests>=2.0.0->langsmith>=0.3.45->langchain-core>=0.3.67->langgraph.prebuilt) (3.4.1)\n",
      "Requirement already satisfied: urllib3<3,>=1.21.1 in /Users/zz/miniconda3/envs/langchain_env/lib/python3.10/site-packages (from requests>=2.0.0->langsmith>=0.3.45->langchain-core>=0.3.67->langgraph.prebuilt) (2.3.0)\n",
      "Requirement already satisfied: exceptiongroup>=1.0.2 in /Users/zz/miniconda3/envs/langchain_env/lib/python3.10/site-packages (from anyio->httpx<1,>=0.23.0->langsmith>=0.3.45->langchain-core>=0.3.67->langgraph.prebuilt) (1.2.2)\n"
     ]
    }
   ],
   "source": [
    "!pip install -U langgraph.prebuilt"
   ]
  },
  {
   "cell_type": "code",
   "execution_count": 23,
   "id": "43c966e8",
   "metadata": {},
   "outputs": [
    {
     "name": "stdout",
     "output_type": "stream",
     "text": [
      "Name: langgraph\n",
      "Version: 0.6.4\n",
      "Summary: Building stateful, multi-actor applications with LLMs\n",
      "Home-page: \n",
      "Author: \n",
      "Author-email: \n",
      "License: \n",
      "Location: /Users/zz/miniconda3/envs/langchain_env/lib/python3.10/site-packages\n",
      "Requires: langchain-core, langgraph-checkpoint, langgraph-prebuilt, langgraph-sdk, pydantic, xxhash\n",
      "Required-by: \n"
     ]
    }
   ],
   "source": [
    "! pip show langgraph\n"
   ]
  },
  {
   "cell_type": "code",
   "execution_count": 24,
   "id": "65ccee2f",
   "metadata": {},
   "outputs": [
    {
     "name": "stdout",
     "output_type": "stream",
     "text": [
      "🔄 使用预构建组件重新构建图...\n",
      "✅ 使用预构建组件的图创建成功！\n",
      "🎯 主要改进:\n",
      "  - 使用 ToolNode 替代 BasicToolNode\n",
      "  - 使用 tools_condition 替代 route_tools\n",
      "  - 支持并行 API 执行\n",
      "  - 更强的错误处理\n",
      "✅ 使用预构建组件的图创建成功！\n",
      "🎯 主要改进:\n",
      "  - 使用 ToolNode 替代 BasicToolNode\n",
      "  - 使用 tools_condition 替代 route_tools\n",
      "  - 支持并行 API 执行\n",
      "  - 更强的错误处理\n"
     ]
    }
   ],
   "source": [
    "from typing import Annotated\n",
    "from langchain_tavily import TavilySearch\n",
    "from langchain_core.messages import BaseMessage\n",
    "from typing_extensions import TypedDict\n",
    "from langgraph.graph import StateGraph, START, END\n",
    "from langgraph.graph.message import add_messages\n",
    "from langgraph.prebuilt import ToolNode\n",
    "from langgraph.prebuilt import tools_condition\n",
    "\n",
    "print(\"🔄 使用预构建组件重新构建图...\")\n",
    "\n",
    "# 重新定义状态\n",
    "class State(TypedDict):\n",
    "    messages: Annotated[list, add_messages]\n",
    "\n",
    "# 创建新的图构建器\n",
    "graph_builder_v2 = StateGraph(State)\n",
    "\n",
    "# 重新创建工具和 LLM\n",
    "tool = TavilySearch(max_results=2)\n",
    "tools = [tool]\n",
    "llm_with_tools = llm.bind_tools(tools)\n",
    "\n",
    "def chatbot(state: State):\n",
    "    \"\"\"聊天机器人节点：处理用户消息并可能调用工具\"\"\"\n",
    "    return {\"messages\": [llm_with_tools.invoke(state[\"messages\"])]}\n",
    "\n",
    "# 添加聊天机器人节点\n",
    "graph_builder_v2.add_node(\"chatbot\", chatbot)\n",
    "\n",
    "# 🆕 使用预构建的 ToolNode\n",
    "tool_node_v2 = ToolNode(tools=[tool])\n",
    "graph_builder_v2.add_node(\"tools\", tool_node_v2)\n",
    "\n",
    "# 🆕 使用预构建的 tools_condition\n",
    "graph_builder_v2.add_conditional_edges(\n",
    "    \"chatbot\",\n",
    "    tools_condition,  # 预构建的条件函数\n",
    ")\n",
    "\n",
    "# 添加边 # Any time a tool is called, we return to the chatbot to decide the next step\n",
    "\n",
    "graph_builder_v2.add_edge(\"tools\", \"chatbot\")\n",
    "graph_builder_v2.add_edge(START, \"chatbot\")\n",
    "\n",
    "# 编译图\n",
    "graph_v2 = graph_builder_v2.compile()\n",
    "\n",
    "print(\"✅ 使用预构建组件的图创建成功！\")\n",
    "print(\"🎯 主要改进:\")\n",
    "print(\"  - 使用 ToolNode 替代 BasicToolNode\")\n",
    "print(\"  - 使用 tools_condition 替代 route_tools\")\n",
    "print(\"  - 支持并行 API 执行\")\n",
    "print(\"  - 更强的错误处理\")"
   ]
  },
  {
   "cell_type": "code",
   "execution_count": 25,
   "id": "09994127",
   "metadata": {},
   "outputs": [
    {
     "data": {
      "image/png": "[encoded data removed]",
      "text/plain": [
       "<IPython.core.display.Image object>"
      ]
     },
     "metadata": {},
     "output_type": "display_data"
    },
    {
     "name": "stdout",
     "output_type": "stream",
     "text": [
      "📊 图结构可视化显示成功！\n"
     ]
    }
   ],
   "source": [
    "from IPython.display import Image, display\n",
    "\n",
    "# 尝试显示图的可视化\n",
    "try:\n",
    "    # 使用 Mermaid 绘制图\n",
    "    display(Image(graph_v2.get_graph().draw_mermaid_png()))\n",
    "    print(\"📊 图结构可视化显示成功！\")\n",
    "except Exception as e:\n",
    "    # 如果无法绘制图像，显示 ASCII 版本\n",
    "    print(\"⚠️ 无法显示图像，显示 ASCII 版本:\")\n",
    "    print(graph_v2.get_graph().draw_ascii())\n",
    "    print(f\"\\n🔧 提示: 要显示图像版本，需要安装额外依赖\")\n",
    "    print(\"错误信息:\", str(e))"
   ]
  },
  {
   "cell_type": "code",
   "execution_count": 26,
   "id": "5efc8935",
   "metadata": {},
   "outputs": [
    {
     "name": "stdout",
     "output_type": "stream",
     "text": [
      "testing graph_v2 with a sample query\n",
      "Assistant: \n",
      "Assistant: {\"query\": \"current weather in Kuala Lumpur, Malaysia\", \"follow_up_questions\": null, \"answer\": null, \"images\": [], \"results\": [{\"title\": \"Weather in Kuala Lumpur, Malaysia\", \"url\": \"https://www.weatherapi.com/\", \"content\": \"{'location': {'name': 'Kuala Lumpur', 'region': 'Kuala Lumpur', 'country': 'Malaysia', 'lat': 3.1667, 'lon': 101.7, 'tz_id': 'Asia/Kuala_Lumpur', 'localtime_epoch': 1754902279, 'localtime': '2025-08-11 16:51'}, 'current': {'last_updated_epoch': 1754901900, 'last_updated': '2025-08-11 16:45', 'temp_c': 29.4, 'temp_f': 84.9, 'is_day': 1, 'condition': {'text': 'Light rain', 'icon': '//cdn.weatherapi.com/weather/64x64/day/296.png', 'code': 1183}, 'wind_mph': 3.6, 'wind_kph': 5.8, 'wind_degree': 324, 'wind_dir': 'NW', 'pressure_mb': 1009.0, 'pressure_in': 29.8, 'precip_mm': 1.33, 'precip_in': 0.05, 'humidity': 70, 'cloud': 25, 'feelslike_c': 39.9, 'feelslike_f': 103.8, 'windchill_c': 22.4, 'windchill_f': 72.4, 'heatindex_c': 24.9, 'heatindex_f': 76.8, 'dewpoint_c': 21.8, 'dewpoint_f': 71.3, 'vis_km': 10.0, 'vis_miles': 6.0, 'uv': 2.6, 'gust_mph': 4.5, 'gust_kph': 7.3}}\", \"score\": 0.8084091, \"raw_content\": null}, {\"url\": \"https://www.accuweather.com/en/my/kuala-lumpur/233776/weather-forecast/233776\", \"title\": \"Kuala Lumpur, Kuala Lumpur, Malaysia Weather Forecast\", \"content\": \"Today's Weather. Mon, Aug 11. Variable cloudiness Hi: 84°. Tonight: Clouds breaking Lo: 74° · Current Weather. 2:13 PM. 81°F. Clouds and sun. RealFeel® 94°\", \"score\": 0.7756902, \"raw_content\": null}], \"response_time\": 2.22}\n",
      "Assistant: The current weather in Kuala Lumpur, Malaysia is as follows:\n",
      "\n",
      "- **Temperature:** 29.4°C (84.9°F)\n",
      "- **Condition:** Light rain\n",
      "- **Humidity:** 70%\n",
      "- **Wind:** 5.8 kph (3.6 mph) from the northwest\n",
      "- **Visibility:** 10.0 km (6.0 miles)\n",
      "\n",
      "For more details, you can visit [Weather API](https://www.weatherapi.com/) or [AccuWeather](https://www.accuweather.com/en/my/kuala-lumpur/233776/weather-forecast/233776).\n"
     ]
    }
   ],
   "source": [
    "# Test graph_v2 with a sample query\n",
    "print(\"testing graph_v2 with a sample query\")\n",
    "for event in graph_v2.stream({\"messages\": [{\"role\": \"user\", \"content\": \"What's the weather in KL malaysia?\"}]}):\n",
    "    for value in event.values():\n",
    "        print(\"Assistant:\", value[\"messages\"][-1].content)"
   ]
  },
  {
   "cell_type": "markdown",
   "id": "bc892acc",
   "metadata": {},
   "source": [
    "## 🎉 恭喜！\n",
    "\n",
    "您已经在 LangGraph 中创建了一个会话代理，它可以在需要时使用搜索引擎检索最新信息。现在它可以处理更广泛的用户查询。\n",
    "\n",
    "## 🔍 关键学习点\n",
    "\n",
    "### 1. 工具集成 (Tool Integration)\n",
    "- **工具定义**: 使用 `TavilySearch` 创建搜索工具\n",
    "- **工具绑定**: 使用 `llm.bind_tools(tools)` 让 LLM 知道可用工具\n",
    "- **工具调用**: LLM 自动决定何时使用工具\n",
    "\n",
    "### 2. 条件路由 (Conditional Routing)\n",
    "- **条件边**: 根据消息是否包含工具调用来路由\n",
    "- **动态决策**: 图可以根据状态动态选择下一个节点\n",
    "- **循环处理**: 工具 → 聊天机器人 → 可能更多工具\n",
    "\n",
    "### 3. 预构建组件 (Prebuilt Components)\n",
    "- **ToolNode**: 自动处理工具调用和结果\n",
    "- **tools_condition**: 标准化的条件路由逻辑\n",
    "- **并行执行**: 预构建组件支持更高效的执行\n",
    "\n",
    "### 4. 错误处理和调试\n",
    "- **消息验证**: 检查消息格式和工具调用\n",
    "- **状态管理**: 正确处理图状态转换\n",
    "- **流式输出**: 实时显示处理过程\n",
    "\n",
    "## 🚀 下一步\n",
    "\n",
    "聊天机器人本身无法记住过去的交互，这限制了它进行连贯的多轮对话的能力。在下一部分中，您将添加记忆功能来解决这个问题。\n",
    "\n",
    "## 📚 扩展阅读\n",
    "\n",
    "- [LangGraph Tools 文档](https://langchain-ai.github.io/langgraph/concepts/tools/)\n",
    "- [Tavily Search API](https://tavily.com/)\n",
    "- [OpenRouter 模型列表](https://openrouter.ai/models)\n",
    "- [LangSmith 调试工具](https://smith.langchain.com/)"
   ]
  },
  {
   "cell_type": "markdown",
   "id": "87c9af70",
   "metadata": {},
   "source": [
    "---\n",
    "\n",
    "*📝 本教程是 LangGraph 学习系列的第二部分。继续关注后续教程，学习如何添加记忆功能、构建多智能体系统等高级功能。*"
   ]
  }
 ],
 "metadata": {
  "kernelspec": {
   "display_name": "langchain_env",
   "language": "python",
   "name": "python3"
  },
  "language_info": {
   "codemirror_mode": {
    "name": "ipython",
    "version": 3
   },
   "file_extension": ".py",
   "mimetype": "text/x-python",
   "name": "python",
   "nbconvert_exporter": "python",
   "pygments_lexer": "ipython3",
   "version": "3.10.16"
  }
 },
 "nbformat": 4,
 "nbformat_minor": 5
}
