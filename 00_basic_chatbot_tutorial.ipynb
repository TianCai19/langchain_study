{
 "cells": [
  {
   "cell_type": "markdown",
   "id": "152b6121",
   "metadata": {},
   "source": [
    "# 使用 LangGraph 构建基础 Chatbot\n",
    "\n",
    "在本教程中，您将构建一个基础 chatbot。这个 chatbot 是后续教程系列的基础，在这些教程中您将逐步添加更复杂的功能，并了解关键的 LangGraph 概念。让我们开始吧！🌟\n",
    "\n",
    "## 前提条件\n",
    "在开始本教程之前，请确保您可以访问支持 tool-calling 功能的 LLM，例如 OpenAI、Anthropic 或 Google Gemini。"
   ]
  },
  {
   "cell_type": "markdown",
   "id": "9e5a699b",
   "metadata": {},
   "source": [
    "## 1. 安装包\n",
    "\n",
    "安装所需的包："
   ]
  },
  {
   "cell_type": "code",
   "execution_count": 1,
   "id": "3c1a6892",
   "metadata": {},
   "outputs": [
    {
     "name": "stdout",
     "output_type": "stream",
     "text": [
      "Requirement already satisfied: langgraph in /Users/zz/miniconda3/envs/langchain_env/lib/python3.10/site-packages (0.5.3)\n",
      "Requirement already satisfied: langsmith in /Users/zz/miniconda3/envs/langchain_env/lib/python3.10/site-packages (0.4.8)\n",
      "Requirement already satisfied: langchain-core>=0.1 in /Users/zz/miniconda3/envs/langchain_env/lib/python3.10/site-packages (from langgraph) (0.3.69)\n",
      "Requirement already satisfied: langgraph-checkpoint<3.0.0,>=2.1.0 in /Users/zz/miniconda3/envs/langchain_env/lib/python3.10/site-packages (from langgraph) (2.1.1)\n",
      "Requirement already satisfied: langgraph-prebuilt<0.6.0,>=0.5.0 in /Users/zz/miniconda3/envs/langchain_env/lib/python3.10/site-packages (from langgraph) (0.5.2)\n",
      "Requirement already satisfied: langgraph-sdk<0.2.0,>=0.1.42 in /Users/zz/miniconda3/envs/langchain_env/lib/python3.10/site-packages (from langgraph) (0.1.73)\n",
      "Requirement already satisfied: pydantic>=2.7.4 in /Users/zz/miniconda3/envs/langchain_env/lib/python3.10/site-packages (from langgraph) (2.11.7)\n",
      "Requirement already satisfied: xxhash>=3.5.0 in /Users/zz/miniconda3/envs/langchain_env/lib/python3.10/site-packages (from langgraph) (3.5.0)\n",
      "Requirement already satisfied: httpx<1,>=0.23.0 in /Users/zz/miniconda3/envs/langchain_env/lib/python3.10/site-packages (from langsmith) (0.27.2)\n",
      "Requirement already satisfied: orjson<4.0.0,>=3.9.14 in /Users/zz/miniconda3/envs/langchain_env/lib/python3.10/site-packages (from langsmith) (3.10.14)\n",
      "Requirement already satisfied: packaging>=23.2 in /Users/zz/miniconda3/envs/langchain_env/lib/python3.10/site-packages (from langsmith) (23.2)\n",
      "Requirement already satisfied: requests<3,>=2 in /Users/zz/miniconda3/envs/langchain_env/lib/python3.10/site-packages (from langsmith) (2.32.3)\n",
      "Requirement already satisfied: requests-toolbelt<2.0.0,>=1.0.0 in /Users/zz/miniconda3/envs/langchain_env/lib/python3.10/site-packages (from langsmith) (1.0.0)\n",
      "Requirement already satisfied: zstandard<0.24.0,>=0.23.0 in /Users/zz/miniconda3/envs/langchain_env/lib/python3.10/site-packages (from langsmith) (0.23.0)\n",
      "Requirement already satisfied: anyio in /Users/zz/miniconda3/envs/langchain_env/lib/python3.10/site-packages (from httpx<1,>=0.23.0->langsmith) (4.8.0)\n",
      "Requirement already satisfied: certifi in /Users/zz/miniconda3/envs/langchain_env/lib/python3.10/site-packages (from httpx<1,>=0.23.0->langsmith) (2024.12.14)\n",
      "Requirement already satisfied: httpcore==1.* in /Users/zz/miniconda3/envs/langchain_env/lib/python3.10/site-packages (from httpx<1,>=0.23.0->langsmith) (1.0.7)\n",
      "Requirement already satisfied: idna in /Users/zz/miniconda3/envs/langchain_env/lib/python3.10/site-packages (from httpx<1,>=0.23.0->langsmith) (3.10)\n",
      "Requirement already satisfied: sniffio in /Users/zz/miniconda3/envs/langchain_env/lib/python3.10/site-packages (from httpx<1,>=0.23.0->langsmith) (1.3.1)\n",
      "Requirement already satisfied: h11<0.15,>=0.13 in /Users/zz/miniconda3/envs/langchain_env/lib/python3.10/site-packages (from httpcore==1.*->httpx<1,>=0.23.0->langsmith) (0.14.0)\n",
      "Requirement already satisfied: tenacity!=8.4.0,<10.0.0,>=8.1.0 in /Users/zz/miniconda3/envs/langchain_env/lib/python3.10/site-packages (from langchain-core>=0.1->langgraph) (8.5.0)\n",
      "Requirement already satisfied: jsonpatch<2.0,>=1.33 in /Users/zz/miniconda3/envs/langchain_env/lib/python3.10/site-packages (from langchain-core>=0.1->langgraph) (1.33)\n",
      "Requirement already satisfied: PyYAML>=5.3 in /Users/zz/miniconda3/envs/langchain_env/lib/python3.10/site-packages (from langchain-core>=0.1->langgraph) (6.0.2)\n",
      "Requirement already satisfied: typing-extensions>=4.7 in /Users/zz/miniconda3/envs/langchain_env/lib/python3.10/site-packages (from langchain-core>=0.1->langgraph) (4.14.1)\n",
      "Requirement already satisfied: ormsgpack>=1.10.0 in /Users/zz/miniconda3/envs/langchain_env/lib/python3.10/site-packages (from langgraph-checkpoint<3.0.0,>=2.1.0->langgraph) (1.10.0)\n",
      "Requirement already satisfied: annotated-types>=0.6.0 in /Users/zz/miniconda3/envs/langchain_env/lib/python3.10/site-packages (from pydantic>=2.7.4->langgraph) (0.7.0)\n",
      "Requirement already satisfied: pydantic-core==2.33.2 in /Users/zz/miniconda3/envs/langchain_env/lib/python3.10/site-packages (from pydantic>=2.7.4->langgraph) (2.33.2)\n",
      "Requirement already satisfied: typing-inspection>=0.4.0 in /Users/zz/miniconda3/envs/langchain_env/lib/python3.10/site-packages (from pydantic>=2.7.4->langgraph) (0.4.1)\n",
      "Requirement already satisfied: charset-normalizer<4,>=2 in /Users/zz/miniconda3/envs/langchain_env/lib/python3.10/site-packages (from requests<3,>=2->langsmith) (3.4.1)\n",
      "Requirement already satisfied: urllib3<3,>=1.21.1 in /Users/zz/miniconda3/envs/langchain_env/lib/python3.10/site-packages (from requests<3,>=2->langsmith) (2.3.0)\n",
      "Requirement already satisfied: jsonpointer>=1.9 in /Users/zz/miniconda3/envs/langchain_env/lib/python3.10/site-packages (from jsonpatch<2.0,>=1.33->langchain-core>=0.1->langgraph) (3.0.0)\n",
      "Requirement already satisfied: exceptiongroup>=1.0.2 in /Users/zz/miniconda3/envs/langchain_env/lib/python3.10/site-packages (from anyio->httpx<1,>=0.23.0->langsmith) (1.2.2)\n"
     ]
    }
   ],
   "source": [
    "# Install required packages\n",
    "!pip install -U langgraph langsmith"
   ]
  },
  {
   "cell_type": "markdown",
   "id": "d9d0d324",
   "metadata": {},
   "source": [
    "**提示**：注册 [LangSmith](https://smith.langchain.com/) 可以快速发现问题并提高您的 LangGraph 项目性能。LangSmith 让您使用 trace 数据来调试、测试和监控用 LangGraph 构建的 LLM 应用程序。"
   ]
  },
  {
   "cell_type": "markdown",
   "id": "91b53594",
   "metadata": {},
   "source": [
    "## 关于 OpenRouter\n",
    "\n",
    "本教程使用 [OpenRouter](https://openrouter.ai/) 服务来访问各种 LLM 模型。OpenRouter 提供了一个统一的 API 来访问多个 AI 模型提供商，包括：\n",
    "\n",
    "- **OpenAI**: GPT-4, GPT-4o, GPT-3.5-turbo\n",
    "- **Anthropic**: Claude 3.5 Sonnet, Claude 3 Opus, Claude 3 Haiku  \n",
    "- **Meta**: Llama 3.1 405B, Llama 3.1 70B, Llama 3.1 8B\n",
    "- **Google**: Gemini Pro 1.5, Gemini Flash\n",
    "- **其他**: Mistral, Cohere, 等等\n",
    "\n",
    "**优势：**\n",
    "- 单一 API key 访问多个模型\n",
    "- 竞争性定价\n",
    "- 无需管理多个账户\n",
    "- 统一的接口格式\n",
    "\n",
    "要使用 OpenRouter，您需要：\n",
    "1. 在 [OpenRouter](https://openrouter.ai/) 注册账户\n",
    "2. 获取 API key（格式：`sk-or-...`）\n",
    "3. 设置适当的 base URL"
   ]
  },
  {
   "cell_type": "markdown",
   "id": "c870e11b",
   "metadata": {},
   "source": [
    "## 2. 创建 StateGraph\n",
    "\n",
    "现在您可以使用 LangGraph 创建一个基础 chatbot。这个 chatbot 将直接响应用户消息。\n",
    "\n",
    "首先创建一个 StateGraph。StateGraph 对象将我们的 chatbot 结构定义为一个\"state machine\"。我们将添加 nodes 来表示 llm 和 chatbot 可以调用的函数，并添加 edges 来指定 bot 应该如何在这些函数之间转换。"
   ]
  },
  {
   "cell_type": "code",
   "execution_count": 2,
   "id": "778e3f9a",
   "metadata": {},
   "outputs": [
    {
     "name": "stdout",
     "output_type": "stream",
     "text": [
      "StateGraph 创建成功！\n"
     ]
    }
   ],
   "source": [
    "from typing import Annotated\n",
    "from typing_extensions import TypedDict\n",
    "from langgraph.graph import StateGraph, START, END\n",
    "from langgraph.graph.message import add_messages\n",
    "\n",
    "class State(TypedDict):\n",
    "    # Messages 的类型是 \"list\"。annotation 中的 `add_messages` 函数\n",
    "    # 定义了这个 state key 应该如何更新\n",
    "    # （在这种情况下，它将消息追加到列表中，而不是覆盖它们）\n",
    "    messages: Annotated[list, add_messages]\n",
    "\n",
    "graph_builder = StateGraph(State)\n",
    "print(\"StateGraph 创建成功！\")"
   ]
  },
  {
   "cell_type": "markdown",
   "id": "3f211b55",
   "metadata": {},
   "source": [
    "我们的 graph 现在可以处理两个关键任务：\n",
    "\n",
    "1. 每个 node 可以接收当前 State 作为输入，并输出对 state 的更新。\n",
    "2. 由于使用了 `Annotated` 语法的预构建 `add_messages` 函数，对 messages 的更新将追加到现有列表中，而不是覆盖它。\n",
    "\n",
    "**概念**：定义 graph 时，第一步是定义其 State。State 包括 graph 的 schema 和处理 state 更新的 reducer 函数。在我们的例子中，State 是一个包含一个 key（messages）的 TypedDict。`add_messages` reducer 函数用于将新消息追加到列表中，而不是覆盖它。"
   ]
  },
  {
   "cell_type": "markdown",
   "id": "d56d1cb0",
   "metadata": {},
   "source": [
    "增加刚刚视频讲解出现的卡点，下面的例子里为何对话是没有“记忆的”：\n",
    "这是个非常好的问题！你可能觉得既然每次都传入新的 messages 列表，那 add_messages 似乎就没起到“累积”作用了。但实际上，即使在当前这个看似“无记忆”的实现中，State 的定义，特别是 messages: Annotated[list, add_messages] 这部分，仍然是至关重要且必不可少的。\n",
    "\n",
    "State 定义的必要性\n",
    "让我们深入理解为什么这个定义是必须的：\n",
    "\n",
    "定义图的“工作内存”模式：\n",
    "StateGraph 的核心就是管理一个状态对象。class State(TypedDict): messages: Annotated[list, add_messages] 这段代码的目的是定义每一次图运行时，其内部状态的结构。它告诉 LangGraph：\n",
    "\n",
    "这个图的状态中有一个叫做 messages 的键。\n",
    "\n",
    "messages 存储的是一个 list 类型的数据。\n",
    "\n",
    "最关键的是，add_messages 这个**“Reducer 函数”**定义了当外部（或节点内部）尝试更新 messages 这个状态键时，应该如何处理这些更新。\n",
    "\n",
    "add_messages 在单次执行中的作用：\n",
    "尽管你在 stream_graph_updates 中每次都传入了一个新的初始 messages 列表，但请看 chatbot 节点的代码：\n",
    "\n",
    "Python\n",
    "\n",
    "def chatbot(state: State):\n",
    "    return {\"messages\": [llm.invoke(state[\"messages\"])]}\n",
    "当 chatbot 函数返回 {\"messages\": [llm.invoke(state[\"messages\"])]} 时，llm.invoke(state[\"messages\"]) 返回的是一个新的 AI 消息对象。\n",
    "\n",
    "此时，add_messages 就发挥作用了：它会把这个新的 AI 消息追加到传入 chatbot 函数时的 state[\"messages\"] 列表里，形成一个包含用户消息和 AI 回复的完整列表。如果没有 add_messages，那么当 chatbot 返回 {\"messages\": [新的AI消息]} 时，它会覆盖掉 state[\"messages\"] 中原有的用户消息，导致在 单次图执行的内部 丢失上下文。\n",
    "\n",
    "简而言之，add_messages 确保了在一次完整的图运行周期内（从用户消息输入到 LLM 响应输出），messages 状态能够正确地从 [用户消息] 变成 [用户消息, AI回复]。"
   ]
  },
  {
   "cell_type": "markdown",
   "id": "daad34f8",
   "metadata": {},
   "source": [
    "## 3. 添加 node\n",
    "\n",
    "接下来，添加一个 \"chatbot\" node。Nodes 代表工作单元，通常是常规的 Python 函数。\n",
    "\n",
    "让我们首先选择一个 chat model。从以下选项中选择一个："
   ]
  },
  {
   "cell_type": "code",
   "execution_count": 3,
   "id": "f94935bd",
   "metadata": {},
   "outputs": [
    {
     "name": "stdout",
     "output_type": "stream",
     "text": [
      "Requirement already satisfied: langchain[openai] in /Users/zz/miniconda3/envs/langchain_env/lib/python3.10/site-packages (0.3.26)\n",
      "Requirement already satisfied: langchain-core<1.0.0,>=0.3.66 in /Users/zz/miniconda3/envs/langchain_env/lib/python3.10/site-packages (from langchain[openai]) (0.3.69)\n",
      "Requirement already satisfied: langchain-text-splitters<1.0.0,>=0.3.8 in /Users/zz/miniconda3/envs/langchain_env/lib/python3.10/site-packages (from langchain[openai]) (0.3.8)\n",
      "Requirement already satisfied: langsmith>=0.1.17 in /Users/zz/miniconda3/envs/langchain_env/lib/python3.10/site-packages (from langchain[openai]) (0.4.8)\n",
      "Requirement already satisfied: pydantic<3.0.0,>=2.7.4 in /Users/zz/miniconda3/envs/langchain_env/lib/python3.10/site-packages (from langchain[openai]) (2.11.7)\n",
      "Requirement already satisfied: SQLAlchemy<3,>=1.4 in /Users/zz/miniconda3/envs/langchain_env/lib/python3.10/site-packages (from langchain[openai]) (2.0.37)\n",
      "Requirement already satisfied: requests<3,>=2 in /Users/zz/miniconda3/envs/langchain_env/lib/python3.10/site-packages (from langchain[openai]) (2.32.3)\n",
      "Requirement already satisfied: PyYAML>=5.3 in /Users/zz/miniconda3/envs/langchain_env/lib/python3.10/site-packages (from langchain[openai]) (6.0.2)\n",
      "Requirement already satisfied: async-timeout<5.0.0,>=4.0.0 in /Users/zz/miniconda3/envs/langchain_env/lib/python3.10/site-packages (from langchain[openai]) (4.0.3)\n",
      "Requirement already satisfied: langchain-openai in /Users/zz/miniconda3/envs/langchain_env/lib/python3.10/site-packages (from langchain[openai]) (0.3.28)\n",
      "Requirement already satisfied: tenacity!=8.4.0,<10.0.0,>=8.1.0 in /Users/zz/miniconda3/envs/langchain_env/lib/python3.10/site-packages (from langchain-core<1.0.0,>=0.3.66->langchain[openai]) (8.5.0)\n",
      "Requirement already satisfied: jsonpatch<2.0,>=1.33 in /Users/zz/miniconda3/envs/langchain_env/lib/python3.10/site-packages (from langchain-core<1.0.0,>=0.3.66->langchain[openai]) (1.33)\n",
      "Requirement already satisfied: typing-extensions>=4.7 in /Users/zz/miniconda3/envs/langchain_env/lib/python3.10/site-packages (from langchain-core<1.0.0,>=0.3.66->langchain[openai]) (4.14.1)\n",
      "Requirement already satisfied: packaging>=23.2 in /Users/zz/miniconda3/envs/langchain_env/lib/python3.10/site-packages (from langchain-core<1.0.0,>=0.3.66->langchain[openai]) (23.2)\n",
      "Requirement already satisfied: httpx<1,>=0.23.0 in /Users/zz/miniconda3/envs/langchain_env/lib/python3.10/site-packages (from langsmith>=0.1.17->langchain[openai]) (0.27.2)\n",
      "Requirement already satisfied: orjson<4.0.0,>=3.9.14 in /Users/zz/miniconda3/envs/langchain_env/lib/python3.10/site-packages (from langsmith>=0.1.17->langchain[openai]) (3.10.14)\n",
      "Requirement already satisfied: requests-toolbelt<2.0.0,>=1.0.0 in /Users/zz/miniconda3/envs/langchain_env/lib/python3.10/site-packages (from langsmith>=0.1.17->langchain[openai]) (1.0.0)\n",
      "Requirement already satisfied: zstandard<0.24.0,>=0.23.0 in /Users/zz/miniconda3/envs/langchain_env/lib/python3.10/site-packages (from langsmith>=0.1.17->langchain[openai]) (0.23.0)\n",
      "Requirement already satisfied: annotated-types>=0.6.0 in /Users/zz/miniconda3/envs/langchain_env/lib/python3.10/site-packages (from pydantic<3.0.0,>=2.7.4->langchain[openai]) (0.7.0)\n",
      "Requirement already satisfied: pydantic-core==2.33.2 in /Users/zz/miniconda3/envs/langchain_env/lib/python3.10/site-packages (from pydantic<3.0.0,>=2.7.4->langchain[openai]) (2.33.2)\n",
      "Requirement already satisfied: typing-inspection>=0.4.0 in /Users/zz/miniconda3/envs/langchain_env/lib/python3.10/site-packages (from pydantic<3.0.0,>=2.7.4->langchain[openai]) (0.4.1)\n",
      "Requirement already satisfied: charset-normalizer<4,>=2 in /Users/zz/miniconda3/envs/langchain_env/lib/python3.10/site-packages (from requests<3,>=2->langchain[openai]) (3.4.1)\n",
      "Requirement already satisfied: idna<4,>=2.5 in /Users/zz/miniconda3/envs/langchain_env/lib/python3.10/site-packages (from requests<3,>=2->langchain[openai]) (3.10)\n",
      "Requirement already satisfied: urllib3<3,>=1.21.1 in /Users/zz/miniconda3/envs/langchain_env/lib/python3.10/site-packages (from requests<3,>=2->langchain[openai]) (2.3.0)\n",
      "Requirement already satisfied: certifi>=2017.4.17 in /Users/zz/miniconda3/envs/langchain_env/lib/python3.10/site-packages (from requests<3,>=2->langchain[openai]) (2024.12.14)\n",
      "Requirement already satisfied: greenlet!=0.4.17 in /Users/zz/miniconda3/envs/langchain_env/lib/python3.10/site-packages (from SQLAlchemy<3,>=1.4->langchain[openai]) (3.1.1)\n",
      "Requirement already satisfied: openai<2.0.0,>=1.86.0 in /Users/zz/miniconda3/envs/langchain_env/lib/python3.10/site-packages (from langchain-openai->langchain[openai]) (1.97.0)\n",
      "Requirement already satisfied: tiktoken<1,>=0.7 in /Users/zz/miniconda3/envs/langchain_env/lib/python3.10/site-packages (from langchain-openai->langchain[openai]) (0.9.0)\n",
      "Requirement already satisfied: anyio in /Users/zz/miniconda3/envs/langchain_env/lib/python3.10/site-packages (from httpx<1,>=0.23.0->langsmith>=0.1.17->langchain[openai]) (4.8.0)\n",
      "Requirement already satisfied: httpcore==1.* in /Users/zz/miniconda3/envs/langchain_env/lib/python3.10/site-packages (from httpx<1,>=0.23.0->langsmith>=0.1.17->langchain[openai]) (1.0.7)\n",
      "Requirement already satisfied: sniffio in /Users/zz/miniconda3/envs/langchain_env/lib/python3.10/site-packages (from httpx<1,>=0.23.0->langsmith>=0.1.17->langchain[openai]) (1.3.1)\n",
      "Requirement already satisfied: h11<0.15,>=0.13 in /Users/zz/miniconda3/envs/langchain_env/lib/python3.10/site-packages (from httpcore==1.*->httpx<1,>=0.23.0->langsmith>=0.1.17->langchain[openai]) (0.14.0)\n",
      "Requirement already satisfied: jsonpointer>=1.9 in /Users/zz/miniconda3/envs/langchain_env/lib/python3.10/site-packages (from jsonpatch<2.0,>=1.33->langchain-core<1.0.0,>=0.3.66->langchain[openai]) (3.0.0)\n",
      "Requirement already satisfied: distro<2,>=1.7.0 in /Users/zz/miniconda3/envs/langchain_env/lib/python3.10/site-packages (from openai<2.0.0,>=1.86.0->langchain-openai->langchain[openai]) (1.9.0)\n",
      "Requirement already satisfied: jiter<1,>=0.4.0 in /Users/zz/miniconda3/envs/langchain_env/lib/python3.10/site-packages (from openai<2.0.0,>=1.86.0->langchain-openai->langchain[openai]) (0.8.2)\n",
      "Requirement already satisfied: tqdm>4 in /Users/zz/miniconda3/envs/langchain_env/lib/python3.10/site-packages (from openai<2.0.0,>=1.86.0->langchain-openai->langchain[openai]) (4.67.1)\n",
      "Requirement already satisfied: regex>=2022.1.18 in /Users/zz/miniconda3/envs/langchain_env/lib/python3.10/site-packages (from tiktoken<1,>=0.7->langchain-openai->langchain[openai]) (2024.11.6)\n",
      "Requirement already satisfied: exceptiongroup>=1.0.2 in /Users/zz/miniconda3/envs/langchain_env/lib/python3.10/site-packages (from anyio->httpx<1,>=0.23.0->langsmith>=0.1.17->langchain[openai]) (1.2.2)\n"
     ]
    }
   ],
   "source": [
    "# 安装带有 OpenAI 支持的 langchain\n",
    "!pip install -U \"langchain[openai]\""
   ]
  },
  {
   "cell_type": "code",
   "execution_count": 4,
   "id": "e75c179e",
   "metadata": {},
   "outputs": [
    {
     "name": "stdout",
     "output_type": "stream",
     "text": [
      "Chat model 初始化成功（使用 OpenRouter 服务）！\n"
     ]
    }
   ],
   "source": [
    "import os\n",
    "from langchain.chat_models import init_chat_model\n",
    "\n",
    "# 设置您的 OpenRouter API key\n",
    "# 将 \"sk-or-...\" 替换为您的实际 OpenRouter API key\n",
    "os.environ[\"OPENAI_API_KEY\"] = \"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\"\n",
    "\n",
    "# 设置 OpenRouter 的 base URL\n",
    "os.environ[\"OPENAI_BASE_URL\"] = \"https://openrouter.ai/api/v1\"\n",
    "\n",
    "# 初始化 chat model，使用 OpenRouter 上的模型\n",
    "# 您可以选择 OpenRouter 上可用的任何模型，例如：\n",
    "llm = init_chat_model(\"openai:anthropic/claude-3.5-sonnet\", base_url=\"https://openrouter.ai/api/v1\")\n",
    "print(\"Chat model 初始化成功（使用 OpenRouter 服务）！\")"
   ]
  },
  {
   "cell_type": "markdown",
   "id": "c887130c",
   "metadata": {},
   "source": [
    "**其他选项**：OpenRouter 支持多种模型，您可以选择不同的模型："
   ]
  },
  {
   "cell_type": "code",
   "execution_count": 5,
   "id": "57df4b30",
   "metadata": {},
   "outputs": [],
   "source": [
    "# OpenRouter 上的其他模型选项（取消注释使用）：\n",
    "\n",
    "# 使用 Claude 3.5 Sonnet\n",
    "# llm = init_chat_model(\"openai:anthropic/claude-3.5-sonnet\", base_url=\"https://openrouter.ai/api/v1\")\n",
    "\n",
    "# 使用 GPT-4o\n",
    "# llm = init_chat_model(\"openai:openai/gpt-4o\", base_url=\"https://openrouter.ai/api/v1\")\n",
    "\n",
    "# 使用 Llama 3.1 405B\n",
    "# llm = init_chat_model(\"openai:meta-llama/llama-3.1-405b-instruct\", base_url=\"https://openrouter.ai/api/v1\")\n",
    "\n",
    "# 使用 Gemini Pro 1.5\n",
    "# llm = init_chat_model(\"openai:google/gemini-pro-1.5\", base_url=\"https://openrouter.ai/api/v1\")"
   ]
  },
  {
   "cell_type": "markdown",
   "id": "e073eab1",
   "metadata": {},
   "source": [
    "现在我们可以将 chat model 整合到一个简单的 node 中："
   ]
  },
  {
   "cell_type": "code",
   "execution_count": 6,
   "id": "ccc03282",
   "metadata": {},
   "outputs": [
    {
     "name": "stdout",
     "output_type": "stream",
     "text": [
      "Chatbot node 添加成功！\n"
     ]
    }
   ],
   "source": [
    "def chatbot(state: State):\n",
    "    return {\"messages\": [llm.invoke(state[\"messages\"])]}\n",
    "\n",
    "# 第一个参数是唯一的 node 名称\n",
    "# 第二个参数是每当使用该 node 时将被调用的函数或对象\n",
    "graph_builder.add_node(\"chatbot\", chatbot)\n",
    "print(\"Chatbot node 添加成功！\")"
   ]
  },
  {
   "cell_type": "markdown",
   "id": "43bac52b",
   "metadata": {},
   "source": [
    "注意 chatbot node 函数如何将当前 State 作为输入，并返回一个包含 \"messages\" key 下更新消息列表的字典。这是所有 LangGraph node 函数的基本模式。\n",
    "\n",
    "我们 State 中的 `add_messages` 函数将把 LLM 的响应消息追加到 state 中已存在的任何消息。"
   ]
  },
  {
   "cell_type": "markdown",
   "id": "8eb0805f",
   "metadata": {},
   "source": [
    "## 4. 添加入口点\n",
    "\n",
    "添加一个入口点来告诉 graph 每次运行时从哪里开始工作："
   ]
  },
  {
   "cell_type": "code",
   "execution_count": 7,
   "id": "74bd49f8",
   "metadata": {},
   "outputs": [
    {
     "name": "stdout",
     "output_type": "stream",
     "text": [
      "入口点添加成功！\n"
     ]
    }
   ],
   "source": [
    "graph_builder.add_edge(START, \"chatbot\")\n",
    "print(\"入口点添加成功！\")"
   ]
  },
  {
   "cell_type": "markdown",
   "id": "0939d8be",
   "metadata": {},
   "source": [
    "## 5. 添加出口点\n",
    "\n",
    "添加一个出口点来指示 graph 应该在哪里结束执行。这对于更复杂的流程很有帮助，但即使在像这样的简单 graph 中，添加 end node 也能提高清晰度。"
   ]
  },
  {
   "cell_type": "code",
   "execution_count": 8,
   "id": "c2c4da65",
   "metadata": {},
   "outputs": [
    {
     "name": "stdout",
     "output_type": "stream",
     "text": [
      "出口点添加成功！\n"
     ]
    }
   ],
   "source": [
    "graph_builder.add_edge(\"chatbot\", END)\n",
    "print(\"出口点添加成功！\")"
   ]
  },
  {
   "cell_type": "markdown",
   "id": "672b7f90",
   "metadata": {},
   "source": [
    "这告诉 graph 在运行 chatbot node 后终止。"
   ]
  },
  {
   "cell_type": "markdown",
   "id": "90eab64f",
   "metadata": {},
   "source": [
    "## 6. 编译 graph\n",
    "\n",
    "在运行 graph 之前，我们需要编译它。我们可以通过在 graph builder 上调用 `compile()` 来实现。这会创建一个 CompiledStateGraph，我们可以在我们的 state 上调用它。"
   ]
  },
  {
   "cell_type": "code",
   "execution_count": 9,
   "id": "085ab2e6",
   "metadata": {},
   "outputs": [
    {
     "name": "stdout",
     "output_type": "stream",
     "text": [
      "Graph 编译成功！\n"
     ]
    }
   ],
   "source": [
    "graph = graph_builder.compile()\n",
    "print(\"Graph 编译成功！\")"
   ]
  },
  {
   "cell_type": "markdown",
   "id": "a33fb7c3",
   "metadata": {},
   "source": [
    "## 7. 可视化 graph（可选）\n",
    "\n",
    "您可以使用 `get_graph` 方法和其中一种 \"draw\" 方法（如 `draw_ascii` 或 `draw_png`）来可视化 graph。draw 方法需要额外的依赖项。"
   ]
  },
  {
   "cell_type": "code",
   "execution_count": 10,
   "id": "fc2fd832",
   "metadata": {},
   "outputs": [
    {
     "data": {
      "image/png": "[encoded data removed]",
      "text/plain": [
       "<IPython.core.display.Image object>"
      ]
     },
     "metadata": {},
     "output_type": "display_data"
    }
   ],
   "source": [
    "from IPython.display import Image, display\n",
    "\n",
    "try:\n",
    "    display(Image(graph.get_graph().draw_mermaid_png()))\n",
    "except Exception as e:\n",
    "    # 这需要一些额外的依赖项，是可选的\n",
    "    print(f\"可视化不可用：{e}\")\n",
    "    print(\"您可以安装 graphviz 和其他依赖项来启用可视化。\")"
   ]
  },
  {
   "cell_type": "markdown",
   "id": "3635d416",
   "metadata": {},
   "source": [
    "## 8. 运行 chatbot\n",
    "\n",
    "现在运行 chatbot！"
   ]
  },
  {
   "cell_type": "code",
   "execution_count": 11,
   "id": "6609679d",
   "metadata": {},
   "outputs": [
    {
     "name": "stdout",
     "output_type": "stream",
     "text": [
      "User: 你知道 langGraph 吗？\n",
      "Assistant: 是的,我了解 langGraph。它是一个基于 Python 的开源工具,用于构建和实现大型语言模型(LLM)应用的工作流程图。\n",
      "\n",
      "主要特点:\n",
      "\n",
      "1. 可视化工作流\n",
      "- 允许以图形方式设计和可视化 LLM 应用程序的工作流\n",
      "- 使复杂的 LLM 链更容易理解和维护\n",
      "\n",
      "2. 模块化设计\n",
      "- 将复杂的 LLM 应用拆分成smaller, 可重用的组件\n",
      "- 支持组件的即插即用\n",
      "\n",
      "3. 与 LangChain 集成\n",
      "- 作为 LangChain 生态系统的一部分\n",
      "- 可以无缝使用 LangChain 的组件和功能\n",
      "\n",
      "4. 流程控制\n",
      "- 支持条件分支、循环等控制流\n",
      "- 可以构建复杂的决策流程\n",
      "\n",
      "5. 异步执行\n",
      "- 支持异步操作\n",
      "- 提高处理效率\n",
      "\n",
      "使用场景:\n",
      "- 构建对话系统\n",
      "- 创建多步骤的数据处理管道\n",
      "- 实现复杂的 AI 决策流程\n",
      "- 自动化文档处理\n",
      "\n",
      "示例代码:\n",
      "```python\n",
      "from langgraph.graph import Graph\n",
      "from langchain.chat_models import ChatOpenAI\n",
      "from langchain.prompts import ChatPromptTemplate\n",
      "\n",
      "# 创建节点\n",
      "def generate_response(message):\n",
      "    llm = ChatOpenAI()\n",
      "    prompt = ChatPromptTemplate.from_template(\"回答问题: {message}\")\n",
      "    response = llm(prompt.format(message=message))\n",
      "    return response\n",
      "\n",
      "# 创建图\n",
      "workflow = Graph()\n",
      "workflow.add_node(\"generate\", generate_response)\n",
      "\n",
      "# 定义边\n",
      "workflow.add_edge(\"input\", \"generate\")\n",
      "workflow.add_edge(\"generate\", \"output\")\n",
      "```\n"
     ]
    }
   ],
   "source": [
    "def stream_graph_updates(user_input: str):\n",
    "    for event in graph.stream({\"messages\": [{\"role\": \"user\", \"content\": user_input}]}):\n",
    "        for value in event.values():\n",
    "            print(\"Assistant:\", value[\"messages\"][-1].content)\n",
    "\n",
    "# 用示例问题测试 chatbot\n",
    "user_input = \"你知道 langGraph 吗？\"\n",
    "print(\"User:\", user_input)\n",
    "stream_graph_updates(user_input)"
   ]
  },
  {
   "cell_type": "markdown",
   "id": "2192f193",
   "metadata": {},
   "source": [
    "## 交互式聊天循环\n",
    "\n",
    "运行以下单元格进行交互式聊天体验："
   ]
  },
  {
   "cell_type": "code",
   "execution_count": null,
   "id": "58626b4c",
   "metadata": {},
   "outputs": [],
   "source": []
  },
  {
   "cell_type": "code",
   "execution_count": 12,
   "id": "b2fe0df4",
   "metadata": {},
   "outputs": [
    {
     "name": "stdout",
     "output_type": "stream",
     "text": [
      "Chatbot 准备就绪！输入 'quit'、'exit' 或 'q' 停止。\n",
      "--------------------------------------------------\n",
      "Assistant: 你好！我是 Claude。很高兴见到你,让我们开始聊天吧。\n",
      "------------------------------\n",
      "Assistant: 你好,张三!很高兴认识你。\n",
      "------------------------------\n",
      "Assistant: 我也喜欢苹果!苹果既好吃又营养丰富。你喜欢吃什么样的苹果呢?红富士、婆婆呃、青苹果还是别的品种?\n",
      "------------------------------\n",
      "Assistant: 我记不住前面的对话内容。每次对话我只能回答目前这一轮的问题。如果您想让我知道您的名字,请直接告诉我。\n",
      "------------------------------\n",
      "Assistant: 不好意思,作为 AI 助手,我不知道你个人喜欢什么水果,因为我们之前没有交流过这个话题。如果你告诉我你喜欢什么水果,我会记住的。让我知道你的偏好哦!\n",
      "------------------------------\n",
      "发生错误：Error code: 400 - {'error': {'message': 'Input must have at least 1 token.', 'code': 400, 'metadata': {'provider_name': None}}}\n"
     ]
    }
   ],
   "source": [
    "# 交互式聊天循环\n",
    "print(\"Chatbot 准备就绪！输入 'quit'、'exit' 或 'q' 停止。\")\n",
    "print(\"-\" * 50)\n",
    "\n",
    "while True:\n",
    "    try:\n",
    "        user_input = input(\"User: \")\n",
    "        if user_input.lower() in [\"quit\", \"exit\", \"q\"]:\n",
    "            print(\"再见！\")\n",
    "            break\n",
    "        stream_graph_updates(user_input)\n",
    "        print(\"-\" * 30)\n",
    "    except KeyboardInterrupt:\n",
    "        print(\"\\n再见！\")\n",
    "        break\n",
    "    except Exception as e:\n",
    "        print(f\"发生错误：{e}\")\n",
    "        break"
   ]
  },
  {
   "cell_type": "markdown",
   "id": "962e3a00",
   "metadata": {},
   "source": [
    "## 完整代码\n",
    "\n",
    "以下是本教程的完整代码，放在一个单元格中："
   ]
  },
  {
   "cell_type": "code",
   "execution_count": 14,
   "id": "21a7f489",
   "metadata": {},
   "outputs": [
    {
     "name": "stdout",
     "output_type": "stream",
     "text": [
      "基础 chatbot 准备就绪（使用 OpenRouter 服务）！\n"
     ]
    }
   ],
   "source": [
    "from typing import Annotated\n",
    "from langchain.chat_models import init_chat_model\n",
    "from typing_extensions import TypedDict\n",
    "from langgraph.graph import StateGraph, START, END\n",
    "from langgraph.graph.message import add_messages\n",
    "import os\n",
    "\n",
    "# 定义 state\n",
    "class State(TypedDict):\n",
    "    messages: Annotated[list, add_messages]\n",
    "\n",
    "# 创建 graph builder\n",
    "graph_builder = StateGraph(State)\n",
    "\n",
    "# 初始化 LLM 使用 OpenRouter（替换为您的 OpenRouter API key）\n",
    "os.environ[\"OPENAI_API_KEY\"] = \"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\"  # 您的 OpenRouter API key\n",
    "os.environ[\"OPENAI_BASE_URL\"] = \"https://openrouter.ai/api/v1\"\n",
    "\n",
    "# 使用 OpenRouter 上的模型\n",
    "llm = init_chat_model(\"openai:gpt-4\", base_url=\"https://openrouter.ai/api/v1\")\n",
    "\n",
    "# 定义 chatbot 函数\n",
    "def chatbot(state: State):\n",
    "    return {\"messages\": [llm.invoke(state[\"messages\"])]}\n",
    "\n",
    "# 添加 node 和 edges\n",
    "graph_builder.add_node(\"chatbot\", chatbot)\n",
    "graph_builder.add_edge(START, \"chatbot\")\n",
    "graph_builder.add_edge(\"chatbot\", END)\n",
    "\n",
    "# 编译 graph\n",
    "graph = graph_builder.compile()\n",
    "\n",
    "print(\"基础 chatbot 准备就绪（使用 OpenRouter 服务）！\")"
   ]
  },
  {
   "cell_type": "markdown",
   "id": "a50bda69",
   "metadata": {},
   "source": [
    "## 恭喜！🎉\n",
    "\n",
    "您已经使用 LangGraph 构建了您的第一个 chatbot。这个 bot 可以通过接收用户输入并使用 LLM 生成响应来进行基本对话。\n",
    "\n",
    "## 下一步\n",
    "\n",
    "您可能已经注意到，bot 的知识仅限于其训练数据中的内容。在下一部分中，我们将添加网络搜索工具来扩展 bot 的知识并使其更加强大。\n",
    "\n",
    "### 学到的关键概念：\n",
    "\n",
    "1. **StateGraph**：使用 LangGraph 构建 stateful 应用程序的基础\n",
    "2. **State 管理**：使用 TypedDict 和 reducer 函数来管理应用程序 state\n",
    "3. **Nodes**：代表 graph 中工作单元的函数\n",
    "4. **Edges**：定义 nodes 之间流程的连接\n",
    "5. **编译**：将您的 graph 定义转换为可执行的应用程序\n",
    "\n",
    "### 进一步探索：\n",
    "\n",
    "- 添加 tool-calling 功能\n",
    "- 实现 memory 和对话历史\n",
    "- 创建多 agent 对话\n",
    "- 添加条件逻辑和分支\n",
    "- 与外部 APIs 和数据库集成"
   ]
  }
 ],
 "metadata": {
  "kernelspec": {
   "display_name": "langchain_env",
   "language": "python",
   "name": "python3"
  },
  "language_info": {
   "codemirror_mode": {
    "name": "ipython",
    "version": 3
   },
   "file_extension": ".py",
   "mimetype": "text/x-python",
   "name": "python",
   "nbconvert_exporter": "python",
   "pygments_lexer": "ipython3",
   "version": "3.10.16"
  }
 },
 "nbformat": 4,
 "nbformat_minor": 5
}
