{
 "cells": [
  {
   "cell_type": "markdown",
   "id": "4df88236",
   "metadata": {},
   "source": [
    "# 03｜为 LangGraph Chatbot 添加人机交互控制（Human-in-the-Loop）\n",
    "\n",
    "本教程在\"记忆功能\"基础上，使用 LangGraph 的 `interrupt` 函数添加人机交互控制，允许在执行过程中暂停并等待人工输入。\n",
    "\n",
    "核心思路：\n",
    "- 创建 `human_assistance` 工具，使用 `interrupt()` 暂停执行\n",
    "- 工具调用时暂停，等待人工反馈\n",
    "- 使用 `Command(resume=...)` 恢复执行并传递人工输入\n",
    "\n",
    "应用场景：\n",
    "- 需要人工审批的敏感操作\n",
    "- 复杂决策需要专家指导\n",
    "- 不确定情况下的安全控制"
   ]
  },
  {
   "cell_type": "markdown",
   "id": "146a18d7",
   "metadata": {},
   "source": [
    "## 1. 安装/升级依赖\n",
    "\n",
    "与前面教程相同的依赖，确保已安装所需包：\n",
    "\n",
    "```python\n",
    "%pip install -U langgraph langsmith \"langchain[openai]\" langchain-tavily python-dotenv\n",
    "```"
   ]
  },
  {
   "cell_type": "code",
   "execution_count": 22,
   "id": "198f4f83",
   "metadata": {},
   "outputs": [],
   "source": [
    "# 安装依赖（如已安装可跳过）\n",
    "# %pip install -U langgraph langsmith \"langchain[openai]\" langchain-tavily python-dotenv"
   ]
  },
  {
   "cell_type": "markdown",
   "id": "224efd3d",
   "metadata": {},
   "source": [
    "## 2. 环境配置（沿用前面的 OpenRouter 配置）\n",
    "\n",
    "继续使用 OpenRouter 作为 OpenAI 兼容端点来访问多种模型。"
   ]
  },
  {
   "cell_type": "code",
   "execution_count": 23,
   "id": "c79a2f24",
   "metadata": {},
   "outputs": [
    {
     "name": "stdout",
     "output_type": "stream",
     "text": [
      "模型已就绪: openai:gpt-4o-mini 通过 https://openrouter.ai/api/v1\n"
     ]
    }
   ],
   "source": [
    "import os\n",
    "from dotenv import load_dotenv\n",
    "\n",
    "# 加载 .env 文件\n",
    "load_dotenv()\n",
    "\n",
    "# 强制使用 OPENROUTER_API_KEY 作为 OPENAI_API_KEY\n",
    "if os.getenv(\"OPENROUTER_API_KEY\"):\n",
    "    os.environ[\"OPENAI_API_KEY\"] = os.environ[\"OPENROUTER_API_KEY\"]\n",
    "\n",
    "from langchain.chat_models import init_chat_model\n",
    "\n",
    "BASE_URL = os.getenv(\"OPENAI_BASE_URL\", \"https://openrouter.ai/api/v1\")\n",
    "MODEL_ID = os.getenv(\"OPENROUTER_MODEL\", \"openai:gpt-4o-mini\")\n",
    "\n",
    "llm = init_chat_model(MODEL_ID, base_url=BASE_URL)\n",
    "print(\"模型已就绪:\", MODEL_ID, \"通过\", BASE_URL)"
   ]
  },
  {
   "cell_type": "markdown",
   "id": "067b1cf0",
   "metadata": {},
   "source": [
    "## 3. 添加 `human_assistance` 工具\n",
    "\n",
    "核心创新：创建一个使用 `interrupt()` 的工具，可以暂停图的执行并等待人工输入。\n",
    "\n",
    "### 3.1 理解 `interrupt()` 函数\n",
    "\n",
    "- **作用**: 类似 Python 的 `input()`，但支持分布式暂停/恢复\n",
    "- **机制**: 暂停执行，保存状态到 checkpointer\n",
    "- **恢复**: 通过 `Command(resume=...)` 传递人工输入并继续执行"
   ]
  },
  {
   "cell_type": "code",
   "execution_count": 24,
   "id": "3b385b64",
   "metadata": {},
   "outputs": [
    {
     "name": "stdout",
     "output_type": "stream",
     "text": [
      "图结构: <langgraph.graph.state.StateGraph object at 0x119c58d60>\n"
     ]
    }
   ],
   "source": [
    "from typing import Annotated\n",
    "from typing_extensions import TypedDict\n",
    "\n",
    "from langchain_tavily import TavilySearch\n",
    "from langchain_core.tools import tool\n",
    "from langgraph.checkpoint.memory import InMemorySaver\n",
    "from langgraph.graph import StateGraph, START\n",
    "from langgraph.graph.message import add_messages\n",
    "from langgraph.prebuilt import ToolNode, tools_condition\n",
    "from langgraph.types import Command, interrupt\n",
    "\n",
    "# 定义 State\n",
    "class State(TypedDict):\n",
    "    messages: Annotated[list, add_messages]\n",
    "\n",
    "graph_builder = StateGraph(State)\n",
    "\n",
    "# 🔥 核心：human_assistance 工具\n",
    "@tool\n",
    "def human_assistance(query: str) -> str:\n",
    "    \"\"\"请求人工协助。\"\"\"\n",
    "    print(f\"🤖 AI 请求人工协助: {query}\")\n",
    "    \n",
    "    # interrupt() 会暂停图的执行，保存状态，等待人工输入\n",
    "    human_response = interrupt({\"query\": query})\n",
    "    \n",
    "    # 恢复执行时，human_response 包含通过 Command 传递的数据\n",
    "    return human_response[\"data\"]\n",
    "\n",
    "# 准备工具列表\n",
    "search_tool = TavilySearch(max_results=2)\n",
    "tools = [search_tool, human_assistance]  # 新增 human_assistance\n",
    "\n",
    "# 绑定工具到 LLM\n",
    "llm_with_tools = llm.bind_tools(tools)\n",
    "\n",
    "def chatbot(state: State):\n",
    "    message = llm_with_tools.invoke(state[\"messages\"])\n",
    "    \n",
    "    # ⚠️ 重要：禁用并行工具调用，避免中断时重复执行\n",
    "    assert len(message.tool_calls) <= 1, \"请禁用并行工具调用以支持中断\"\n",
    "    \n",
    "    return {\"messages\": [message]}\n",
    "\n",
    "# 构建图\n",
    "graph_builder.add_node(\"chatbot\", chatbot)\n",
    "\n",
    "tool_node = ToolNode(tools=tools)\n",
    "graph_builder.add_node(\"tools\", tool_node)\n",
    "\n",
    "graph_builder.add_conditional_edges(\n",
    "    \"chatbot\",\n",
    "    tools_condition,\n",
    ")\n",
    "graph_builder.add_edge(\"tools\", \"chatbot\")\n",
    "graph_builder.add_edge(START, \"chatbot\")\n",
    "\n",
    "print(\"图结构:\", graph_builder)"
   ]
  },
  {
   "cell_type": "markdown",
   "id": "b531e0fc",
   "metadata": {},
   "source": [
    "## 4. 编译图（带检查点支持）\n",
    "\n",
    "人机交互功能依赖检查点系统来保存和恢复状态。"
   ]
  },
  {
   "cell_type": "code",
   "execution_count": 25,
   "id": "d3e24493",
   "metadata": {},
   "outputs": [
    {
     "name": "stdout",
     "output_type": "stream",
     "text": [
      "图已编译完成，支持检查点人机交互功能。\n"
     ]
    }
   ],
   "source": [
    "memory = InMemorySaver()\n",
    "graph = graph_builder.compile(checkpointer=memory)\n",
    "print(\"图已编译完成，支持检查点人机交互功能。\")"
   ]
  },
  {
   "cell_type": "markdown",
   "id": "9b14dcc7",
   "metadata": {},
   "source": [
    "## 5. 可视化图结构（可选）\n",
    "\n",
    "图的结构与之前相同，只是多了一个 `human_assistance` 工具。"
   ]
  },
  {
   "cell_type": "code",
   "execution_count": 26,
   "id": "ab8a2ea1",
   "metadata": {},
   "outputs": [
    {
     "data": {
      "image/png": "[encoded data removed]",
      "text/plain": [
       "<IPython.core.display.Image object>"
      ]
     },
     "metadata": {},
     "output_type": "display_data"
    }
   ],
   "source": [
    "# 可视化图结构\n",
    "try:\n",
    "    from IPython.display import Image, display\n",
    "    display(Image(graph.get_graph().draw_mermaid_png()))\n",
    "except Exception as e:\n",
    "    print(f\"图可视化需要额外依赖，跳过: {e}\")\n",
    "    print(\"图结构: START -> chatbot -> [条件边] -> tools -> chatbot\")"
   ]
  },
  {
   "cell_type": "markdown",
   "id": "ed0f6c64",
   "metadata": {},
   "source": [
    "## 6. 触发人工协助请求\n",
    "\n",
    "让我们提一个会触发 `human_assistance` 工具的问题："
   ]
  },
  {
   "cell_type": "code",
   "execution_count": 33,
   "id": "51f758af",
   "metadata": {},
   "outputs": [
    {
     "name": "stdout",
     "output_type": "stream",
     "text": [
      "🚀 开始对话，等待人工协助...\n",
      "\n",
      "📨 HumanMessage:\n",
      "================================\u001b[1m Human Message \u001b[0m=================================\n",
      "\n",
      "我需要一些关于构建 AI 智能体的专家指导，你能帮我请求协助吗？\n",
      "\n",
      "📨 AIMessage:\n",
      "==================================\u001b[1m Ai Message \u001b[0m==================================\n",
      "Tool Calls:\n",
      "  human_assistance (call_OXGqrBR0GOrMj0t5wGJPActo)\n",
      " Call ID: call_OXGqrBR0GOrMj0t5wGJPActo\n",
      "  Args:\n",
      "    query: 我需要一些关于构建 AI 智能体的专家指导，请问有哪些建议或资源推荐？\n"
     ]
    }
   ],
   "source": [
    "user_input = \"我需要一些关于构建 AI 智能体的专家指导，你能帮我请求协助吗？\"\n",
    "config = {\"configurable\": {\"thread_id\": \"human_loop_demo\"}}\n",
    "\n",
    "print(\"🚀 开始对话，等待人工协助...\")\n",
    "\n",
    "events = graph.stream(\n",
    "    {\"messages\": [{\"role\": \"user\", \"content\": user_input}]},\n",
    "    config,\n",
    "    stream_mode=\"values\",\n",
    ")\n",
    "\n",
    "for event in events:\n",
    "    if \"messages\" in event:\n",
    "        last_msg = event[\"messages\"][-1]\n",
    "        print(f\"\\n📨 {type(last_msg).__name__}:\")\n",
    "        last_msg.pretty_print()"
   ]
  },
  {
   "cell_type": "markdown",
   "id": "da77638e",
   "metadata": {},
   "source": [
    "### 6.1 检查图的中断状态\n",
    "\n",
    "执行会在 `tools` 节点暂停，等待人工输入："
   ]
  },
  {
   "cell_type": "code",
   "execution_count": 28,
   "id": "7e286971",
   "metadata": {},
   "outputs": [
    {
     "name": "stdout",
     "output_type": "stream",
     "text": [
      "当前状态:\n",
      "下一步执行的节点: ('tools',)\n",
      "消息数量: 2\n",
      "✋ 图已暂停，等待人工输入恢复执行\n"
     ]
    }
   ],
   "source": [
    "snapshot = graph.get_state(config)\n",
    "print(\"当前状态:\")\n",
    "print(f\"下一步执行的节点: {snapshot.next}\")\n",
    "print(f\"消息数量: {len(snapshot.values.get('messages', []))}\")\n",
    "\n",
    "# 如果图在等待，next 应该是 ('tools',)\n",
    "if snapshot.next:\n",
    "    print(\"✋ 图已暂停，等待人工输入恢复执行\")\n",
    "else:\n",
    "    print(\"✅ 图执行完成\")"
   ]
  },
  {
   "cell_type": "markdown",
   "id": "7b57a695",
   "metadata": {},
   "source": [
    "## 7. 恢复执行（提供人工输入）\n",
    "\n",
    "使用 `Command(resume=...)` 传递人工响应并恢复图的执行："
   ]
  },
  {
   "cell_type": "code",
   "execution_count": 29,
   "id": "afa5be9e",
   "metadata": {},
   "outputs": [
    {
     "name": "stdout",
     "output_type": "stream",
     "text": [
      "👨‍💼 专家提供回应，恢复执行...\n",
      "\n",
      "📨 AIMessage:\n",
      "==================================\u001b[1m Ai Message \u001b[0m==================================\n",
      "Tool Calls:\n",
      "  human_assistance (call_xrnRUKuQe2BE8pE6UxBoVFBM)\n",
      " Call ID: call_xrnRUKuQe2BE8pE6UxBoVFBM\n",
      "  Args:\n",
      "    query: 我需要一些关于构建 AI 智能体的专家指导和建议。\n",
      "🤖 AI 请求人工协助: 我需要一些关于构建 AI 智能体的专家指导和建议。\n",
      "\n",
      "📨 ToolMessage:\n",
      "=================================\u001b[1m Tool Message \u001b[0m=================================\n",
      "Name: human_assistance\n",
      "\n",
      "我们专家团队来帮助您了！我们建议您查看 LangGraph 来构建您的智能体。它比简单的自主智能体更可靠、更具扩展性。LangGraph 提供：1) 状态管理，2) 检查点机制，3) 人机交互工作流，4) 高级路由和条件逻辑。\n",
      "\n",
      "📨 AIMessage:\n",
      "==================================\u001b[1m Ai Message \u001b[0m==================================\n",
      "\n",
      "我已请求专家协助，专家推荐您查看 LangGraph 来构建 AI 智能体。LangGraph 提供以下功能，使其比简单的自主智能体更可靠且更具扩展性：\n",
      "\n",
      "1. **状态管理**：有效跟踪和管理智能体的状态。\n",
      "2. **检查点机制**：确保在需要时可以恢复到先前的状态。\n",
      "3. **人机交互工作流**：支持与用户的交互，提升智能体的用户体验。\n",
      "4. **高级路由和条件逻辑**：实现复杂的决策逻辑和任务路由。\n",
      "\n",
      "这些功能能够帮助您更高效地构建和管理 AI 智能体。\n"
     ]
    }
   ],
   "source": [
    "# 🧑‍💼 模拟专家的人工响应\n",
    "human_response = (\n",
    "    \"我们专家团队来帮助您了！我们建议您查看 LangGraph 来构建您的智能体。\"\n",
    "    \"它比简单的自主智能体更可靠、更具扩展性。\"\n",
    "    \"LangGraph 提供：1) 状态管理，2) 检查点机制，3) 人机交互工作流，\"\n",
    "    \"4) 高级路由和条件逻辑。\"\n",
    ")\n",
    "\n",
    "# 创建 Command 对象来恢复执行\n",
    "human_command = Command(resume={\"data\": human_response})\n",
    "\n",
    "print(\"👨‍💼 专家提供回应，恢复执行...\")\n",
    "\n",
    "# 恢复图的执行\n",
    "events = graph.stream(human_command, config, stream_mode=\"values\")\n",
    "\n",
    "for event in events:\n",
    "    if \"messages\" in event:\n",
    "        last_msg = event[\"messages\"][-1]\n",
    "        print(f\"\\n📨 {type(last_msg).__name__}:\")\n",
    "        last_msg.pretty_print()"
   ]
  },
  {
   "cell_type": "markdown",
   "id": "1dfc565a",
   "metadata": {},
   "source": [
    "### 7.1 验证执行完成\n",
    "\n",
    "检查图是否已完全恢复并完成执行："
   ]
  },
  {
   "cell_type": "code",
   "execution_count": 30,
   "id": "33ba48b8",
   "metadata": {},
   "outputs": [
    {
     "name": "stdout",
     "output_type": "stream",
     "text": [
      "执行完成后的状态:\n",
      "下一步节点: ()\n",
      "总消息数: 4\n",
      "✅ 图执行完成！人工协助流程成功完成。\n"
     ]
    }
   ],
   "source": [
    "final_snapshot = graph.get_state(config)\n",
    "print(\"执行完成后的状态:\")\n",
    "print(f\"下一步节点: {final_snapshot.next}\")\n",
    "print(f\"总消息数: {len(final_snapshot.values.get('messages', []))}\")\n",
    "\n",
    "if not final_snapshot.next:\n",
    "    print(\"✅ 图执行完成！人工协助流程成功完成。\")\n",
    "else:\n",
    "    print(\"⚠️ 图仍在等待或执行中...\")"
   ]
  },
  {
   "cell_type": "markdown",
   "id": "9d1a4221",
   "metadata": {},
   "source": [
    "## 8. 深入理解 Human-in-the-Loop 机制\n",
    "\n",
    "### 8.1 核心概念\n",
    "\n",
    "1. **`interrupt()` 函数**:\n",
    "   - 暂停图的执行\n",
    "   - 保存当前状态到 checkpointer\n",
    "   - 返回传递给它的数据结构\n",
    "\n",
    "2. **`Command(resume=...)` 对象**:\n",
    "   - 恢复被中断的执行\n",
    "   - 传递人工输入数据\n",
    "   - 支持复杂的数据结构\n",
    "\n",
    "3. **检查点持久化**:\n",
    "   - 状态可以无限期保存\n",
    "   - 支持跨进程、跨时间恢复\n",
    "   - 生产环境可用 PostgreSQL/SQLite\n",
    "\n",
    "### 8.2 工作流程\n",
    "\n",
    "```\n",
    "用户输入 → AI决策 → 需要人工协助 → interrupt() → 暂停执行\n",
    "                                                    ↓\n",
    "人工响应 ← Command(resume=...) ← 等待人工输入 ← 保存状态\n",
    "    ↓\n",
    "恢复执行 → 处理人工输入 → 生成最终回复 → 完成\n",
    "```"
   ]
  },
  {
   "cell_type": "markdown",
   "id": "2551aa00",
   "metadata": {},
   "source": [
    "### 8.3 实际应用场景\n",
    "\n",
    "1. **敏感操作审批**:\n",
    "   - 删除数据前确认\n",
    "   - 发送邮件前审核\n",
    "   - 执行系统命令前验证\n",
    "\n",
    "2. **专家咨询**:\n",
    "   - 复杂技术问题\n",
    "   - 医疗诊断建议\n",
    "   - 法律意见咨询\n",
    "\n",
    "3. **质量控制**:\n",
    "   - 内容审核\n",
    "   - 代码review\n",
    "   - 创意方案评估\n",
    "\n",
    "4. **学习系统**:\n",
    "   - 收集人工标注\n",
    "   - 获取用户反馈\n",
    "   - 改进模型输出"
   ]
  },
  {
   "cell_type": "markdown",
   "id": "dc0419a8",
   "metadata": {},
   "source": [
    "## 9. 高级示例：条件中断\n",
    "\n",
    "让我们创建一个更智能的人工协助工具，只在特定条件下中断："
   ]
  },
  {
   "cell_type": "code",
   "execution_count": 31,
   "id": "49321dec",
   "metadata": {},
   "outputs": [
    {
     "name": "stdout",
     "output_type": "stream",
     "text": [
      "=== 测试智能人工协助工具 ===\n",
      "低优先级测试异常（这是预期内的，因为不在图执行上下文中）: AttributeError\n",
      "\n",
      "高优先级测试需要在图执行中进行，下面是如何在实际应用中使用:\n",
      "\n",
      "# 在图中使用示例:\n",
      "config = {\"configurable\": {\"thread_id\": \"urgent_demo\"}}\n",
      "user_msg = \"我需要紧急帮助处理这个安全漏洞问题\"\n",
      "\n",
      "# 启动图执行\n",
      "events = graph.stream(\n",
      "    {\"messages\": [{\"role\": \"user\", \"content\": user_msg}]},\n",
      "    config,\n",
      "    stream_mode=\"values\"\n",
      ")\n",
      "\n",
      "# 图会在 smart_human_assistance 工具被调用（且紧急级别为 high/critical）时暂停\n",
      "# 然后可以通过 Command 对象恢复执行:\n",
      "# graph.stream(Command(resume={\"data\": \"人工专家回复内容\"}), config)\n",
      "\n"
     ]
    }
   ],
   "source": [
    "# 🚀 高级示例：智能人工协助工具\n",
    "@tool\n",
    "def smart_human_assistance(query: str, urgency: str = \"normal\") -> str:\n",
    "    \"\"\"\n",
    "    智能人工协助工具，根据紧急程度决定是否中断\n",
    "    \n",
    "    Args:\n",
    "        query: 需要协助的问题\n",
    "        urgency: 紧急程度 (\"low\", \"normal\", \"high\", \"critical\")\n",
    "    \"\"\"\n",
    "    \n",
    "    # 只有 high 或 critical 级别才中断，其他情况自动处理\n",
    "    if urgency.lower() in [\"high\", \"critical\"]:\n",
    "        print(f\"🚨 {urgency.upper()} 级别请求，需要人工协助: {query}\")\n",
    "        human_response = interrupt({\n",
    "            \"query\": query, \n",
    "            \"urgency\": urgency,\n",
    "            \"timestamp\": \"2025-08-12T10:30:00Z\"\n",
    "        })\n",
    "        return human_response[\"data\"]\n",
    "    else:\n",
    "        # 低优先级自动回复\n",
    "        return f\"这是一个 {urgency} 级别的问题，AI 自动处理: 建议查看相关文档或联系技术支持。\"\n",
    "\n",
    "# 测试不同紧急程度\n",
    "print(\"=== 测试智能人工协助工具 ===\")\n",
    "\n",
    "# 测试1: 低优先级（不会中断）\n",
    "try:\n",
    "    # 低优先级不会触发中断，可以直接测试\n",
    "    result1 = smart_human_assistance(\"如何使用基础功能？\", \"low\")\n",
    "    print(f\"低优先级结果: {result1}\")\n",
    "except Exception as e:\n",
    "    print(f\"低优先级测试异常（这是预期内的，因为不在图执行上下文中）: {type(e).__name__}\")\n",
    "\n",
    "# 添加高优先级的测试说明\n",
    "print(\"\\n高优先级测试需要在图执行中进行，下面是如何在实际应用中使用:\")\n",
    "print(\"\"\"\n",
    "# 在图中使用示例:\n",
    "config = {\"configurable\": {\"thread_id\": \"urgent_demo\"}}\n",
    "user_msg = \"我需要紧急帮助处理这个安全漏洞问题\"\n",
    "\n",
    "# 启动图执行\n",
    "events = graph.stream(\n",
    "    {\"messages\": [{\"role\": \"user\", \"content\": user_msg}]},\n",
    "    config,\n",
    "    stream_mode=\"values\"\n",
    ")\n",
    "\n",
    "# 图会在 smart_human_assistance 工具被调用（且紧急级别为 high/critical）时暂停\n",
    "# 然后可以通过 Command 对象恢复执行:\n",
    "# graph.stream(Command(resume={\"data\": \"人工专家回复内容\"}), config)\n",
    "\"\"\")"
   ]
  },
  {
   "cell_type": "markdown",
   "id": "f973fedf",
   "metadata": {},
   "source": [
    "## 10. Bonus：完整代码整合\n",
    "\n",
    "以下是完整的人机交互聊天机器人代码："
   ]
  },
  {
   "cell_type": "code",
   "execution_count": 32,
   "id": "4dcc79b5",
   "metadata": {},
   "outputs": [
    {
     "name": "stdout",
     "output_type": "stream",
     "text": [
      "🤖 用户请求专家指导...\n",
      "================================\u001b[1m Human Message \u001b[0m=================================\n",
      "\n",
      "我需要关于 AI 系统的专家指导。\n",
      "==================================\u001b[1m Ai Message \u001b[0m==================================\n",
      "Tool Calls:\n",
      "  human_assistance (call_KPf5yMipYGm5IblQ85ld14Yq)\n",
      " Call ID: call_KPf5yMipYGm5IblQ85ld14Yq\n",
      "  Args:\n",
      "    query: 我需要关于 AI 系统的专家指导。\n",
      "\n",
      "⏸️ 图已暂停，等待人工输入...\n",
      "👨‍💼 专家提供建议，恢复执行...\n",
      "==================================\u001b[1m Ai Message \u001b[0m==================================\n",
      "Tool Calls:\n",
      "  human_assistance (call_KPf5yMipYGm5IblQ85ld14Yq)\n",
      " Call ID: call_KPf5yMipYGm5IblQ85ld14Yq\n",
      "  Args:\n",
      "    query: 我需要关于 AI 系统的专家指导。\n",
      "=================================\u001b[1m Tool Message \u001b[0m=================================\n",
      "Name: human_assistance\n",
      "\n",
      "AI 系统设计建议：1) 使用模块化架构，2) 实现监控和日志，3) 考虑安全性，4) 优化性能。\n",
      "==================================\u001b[1m Ai Message \u001b[0m==================================\n",
      "\n",
      "关于 AI 系统的设计与实现，以下是一些专家指导建议：\n",
      "\n",
      "1. **模块化架构**：采用模块化设计可以让系统更具灵活性和可维护性。不同模块可以独立开发、测试和部署，从而加速开发流程。\n",
      "\n",
      "2. **监控和日志**：实现实时监控和详细日志记录，以便于追踪系统性能和快速诊断问题。这有助于识别瓶颈和潜在的安全风险。\n",
      "\n",
      "3. **安全性考虑**：在设计初期就应考虑安全性，包括数据保护、用户隐私以及防止恶意攻击的机制。\n",
      "\n",
      "4. **性能优化**：持续优化系统性能，包括算法优化和硬件加速，以确保 AI 系统在处理大规模数据时能够高效运行。\n",
      "\n",
      "如果您有具体问题或需要更详细的指导，请告知我！\n"
     ]
    }
   ],
   "source": [
    "# 完整的人机交互聊天机器人\n",
    "import os\n",
    "from typing import Annotated\n",
    "from typing_extensions import TypedDict\n",
    "from dotenv import load_dotenv\n",
    "\n",
    "from langchain.chat_models import init_chat_model\n",
    "from langchain_tavily import TavilySearch\n",
    "from langchain_core.tools import tool\n",
    "from langgraph.checkpoint.memory import InMemorySaver\n",
    "from langgraph.graph import StateGraph, START\n",
    "from langgraph.graph.message import add_messages\n",
    "from langgraph.prebuilt import ToolNode, tools_condition\n",
    "from langgraph.types import Command, interrupt\n",
    "\n",
    "# 环境配置\n",
    "load_dotenv()\n",
    "if os.getenv(\"OPENROUTER_API_KEY\"):\n",
    "    os.environ[\"OPENAI_API_KEY\"] = os.environ[\"OPENROUTER_API_KEY\"]\n",
    "\n",
    "BASE_URL = os.getenv(\"OPENAI_BASE_URL\", \"https://openrouter.ai/api/v1\")\n",
    "MODEL_ID = os.getenv(\"OPENROUTER_MODEL\", \"openai:gpt-4o-mini\")\n",
    "llm = init_chat_model(MODEL_ID, base_url=BASE_URL)\n",
    "\n",
    "# State 定义\n",
    "class State(TypedDict):\n",
    "    messages: Annotated[list, add_messages]\n",
    "\n",
    "# 人工协助工具\n",
    "@tool\n",
    "def human_assistance(query: str) -> str:\n",
    "    \"\"\"请求人工协助。\"\"\"\n",
    "    human_response = interrupt({\"query\": query})\n",
    "    return human_response[\"data\"]\n",
    "\n",
    "# 构建图\n",
    "graph_builder = StateGraph(State)\n",
    "\n",
    "search_tool = TavilySearch(max_results=2)\n",
    "tools = [search_tool, human_assistance]\n",
    "llm_with_tools = llm.bind_tools(tools)\n",
    "\n",
    "def chatbot(state: State):\n",
    "    message = llm_with_tools.invoke(state[\"messages\"])\n",
    "    assert len(message.tool_calls) <= 1, \"禁用并行工具调用\"\n",
    "    return {\"messages\": [message]}\n",
    "\n",
    "graph_builder.add_node(\"chatbot\", chatbot)\n",
    "graph_builder.add_node(\"tools\", ToolNode(tools=tools))\n",
    "graph_builder.add_conditional_edges(\"chatbot\", tools_condition)\n",
    "graph_builder.add_edge(\"tools\", \"chatbot\")\n",
    "graph_builder.add_edge(START, \"chatbot\")\n",
    "\n",
    "# 编译图\n",
    "memory = InMemorySaver()\n",
    "graph = graph_builder.compile(checkpointer=memory)\n",
    "\n",
    "# 使用示例\n",
    "def demo_human_in_loop():\n",
    "    \"\"\"演示人机交互功能\"\"\"\n",
    "    config = {\"configurable\": {\"thread_id\": \"demo\"}}\n",
    "    \n",
    "    print(\"🤖 用户请求专家指导...\")\n",
    "    events = graph.stream(\n",
    "        {\"messages\": [{\"role\": \"user\", \"content\": \"我需要关于 AI 系统的专家指导。\"}]},\n",
    "        config,\n",
    "        stream_mode=\"values\"\n",
    "    )\n",
    "    \n",
    "    for event in events:\n",
    "        if \"messages\" in event:\n",
    "            event[\"messages\"][-1].pretty_print()\n",
    "    \n",
    "    # 检查是否需要人工输入\n",
    "    snapshot = graph.get_state(config)\n",
    "    if snapshot.next:\n",
    "        print(\"\\n⏸️ 图已暂停，等待人工输入...\")\n",
    "        \n",
    "        # 模拟专家回复\n",
    "        expert_response = \"AI 系统设计建议：1) 使用模块化架构，2) 实现监控和日志，3) 考虑安全性，4) 优化性能。\"\n",
    "        \n",
    "        # 恢复执行\n",
    "        print(\"👨‍💼 专家提供建议，恢复执行...\")\n",
    "        events = graph.stream(Command(resume={\"data\": expert_response}), config, stream_mode=\"values\")\n",
    "        \n",
    "        for event in events:\n",
    "            if \"messages\" in event:\n",
    "                event[\"messages\"][-1].pretty_print()\n",
    "\n",
    "# 如果需要测试，取消下面的注释\n",
    "demo_human_in_loop()"
   ]
  },
  {
   "cell_type": "markdown",
   "id": "0337206e",
   "metadata": {},
   "source": [
    "## 🎉 总结\n",
    "\n",
    "恭喜！你已经成功实现了带有人机交互控制的 LangGraph 聊天机器人！\n",
    "\n",
    "### ✅ 学到的核心技能：\n",
    "\n",
    "1. **`interrupt()` 函数使用**：暂停图执行，等待人工输入\n",
    "2. **`Command(resume=...)` 对象**：恢复执行并传递人工数据  \n",
    "3. **检查点持久化**：支持长期暂停和跨会话恢复\n",
    "4. **工具级别的人机交互**：在特定工具中集成人工决策\n",
    "\n",
    "### 🚀 关键优势：\n",
    "\n",
    "- **灵活控制**：可以在任何节点暂停等待人工输入\n",
    "- **状态持久**：支持无限期暂停，生产环境可用数据库存储\n",
    "- **无缝恢复**：人工输入后自然继续执行流程\n",
    "- **工作流集成**：与现有的工具和条件逻辑完美融合\n",
    "\n",
    "### 🔮 下一步探索：\n",
    "\n",
    "- **自定义 State**：添加更多字段来支持复杂的工作流\n",
    "- **多轮人机交互**：支持多次暂停和人工介入\n",
    "- **UI 集成**：构建 Web 界面来处理人工输入\n",
    "- **权限控制**：不同用户级别的不同审批流程\n",
    "\n",
    "人机交互是 AI 系统的重要安全机制，让你可以在关键决策点加入人工智慧！🧠✨"
   ]
  }
 ],
 "metadata": {
  "kernelspec": {
   "display_name": "langchain_env",
   "language": "python",
   "name": "python3"
  },
  "language_info": {
   "codemirror_mode": {
    "name": "ipython",
    "version": 3
   },
   "file_extension": ".py",
   "mimetype": "text/x-python",
   "name": "python",
   "nbconvert_exporter": "python",
   "pygments_lexer": "ipython3",
   "version": "3.10.16"
  }
 },
 "nbformat": 4,
 "nbformat_minor": 5
}
